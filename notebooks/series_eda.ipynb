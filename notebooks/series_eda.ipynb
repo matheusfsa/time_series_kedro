{
 "cells": [
  {
   "cell_type": "code",
   "execution_count": 1,
   "id": "2708561e",
   "metadata": {},
   "outputs": [],
   "source": [
    "import ipywidgets as widgets"
   ]
  },
  {
   "cell_type": "code",
   "execution_count": 2,
   "id": "9c3fb2b6",
   "metadata": {},
   "outputs": [
    {
     "name": "stdout",
     "output_type": "stream",
     "text": [
      "2022-02-28 13:05:13,953 - kedro.io.data_catalog - INFO - Loading data from `train_data` (CSVDataSet)...\n",
      "2022-02-28 13:05:14,004 - kedro.io.data_catalog - INFO - Loading data from `eval_data` (CSVDataSet)...\n"
     ]
    }
   ],
   "source": [
    "train_data = catalog.load(\"train_data\")\n",
    "test_data = catalog.load(\"eval_data\")"
   ]
  },
  {
   "cell_type": "code",
   "execution_count": 3,
   "id": "1b17d413",
   "metadata": {},
   "outputs": [
    {
     "data": {
      "text/html": [
       "<div>\n",
       "<style scoped>\n",
       "    .dataframe tbody tr th:only-of-type {\n",
       "        vertical-align: middle;\n",
       "    }\n",
       "\n",
       "    .dataframe tbody tr th {\n",
       "        vertical-align: top;\n",
       "    }\n",
       "\n",
       "    .dataframe thead th {\n",
       "        text-align: right;\n",
       "    }\n",
       "</style>\n",
       "<table border=\"1\" class=\"dataframe\">\n",
       "  <thead>\n",
       "    <tr style=\"text-align: right;\">\n",
       "      <th></th>\n",
       "      <th>serie_id</th>\n",
       "      <th>date</th>\n",
       "      <th>sales</th>\n",
       "      <th>dcoilwtico</th>\n",
       "      <th>group</th>\n",
       "    </tr>\n",
       "  </thead>\n",
       "  <tbody>\n",
       "    <tr>\n",
       "      <th>0</th>\n",
       "      <td>(10, 'BOOKS')</td>\n",
       "      <td>2013-01-01</td>\n",
       "      <td>0.0</td>\n",
       "      <td>0.00</td>\n",
       "      <td>0</td>\n",
       "    </tr>\n",
       "    <tr>\n",
       "      <th>1</th>\n",
       "      <td>(10, 'BOOKS')</td>\n",
       "      <td>2013-01-02</td>\n",
       "      <td>0.0</td>\n",
       "      <td>93.14</td>\n",
       "      <td>0</td>\n",
       "    </tr>\n",
       "    <tr>\n",
       "      <th>2</th>\n",
       "      <td>(10, 'BOOKS')</td>\n",
       "      <td>2013-01-03</td>\n",
       "      <td>0.0</td>\n",
       "      <td>92.97</td>\n",
       "      <td>0</td>\n",
       "    </tr>\n",
       "    <tr>\n",
       "      <th>3</th>\n",
       "      <td>(10, 'BOOKS')</td>\n",
       "      <td>2013-01-04</td>\n",
       "      <td>0.0</td>\n",
       "      <td>93.12</td>\n",
       "      <td>0</td>\n",
       "    </tr>\n",
       "    <tr>\n",
       "      <th>4</th>\n",
       "      <td>(10, 'BOOKS')</td>\n",
       "      <td>2013-01-07</td>\n",
       "      <td>0.0</td>\n",
       "      <td>93.20</td>\n",
       "      <td>0</td>\n",
       "    </tr>\n",
       "    <tr>\n",
       "      <th>...</th>\n",
       "      <td>...</td>\n",
       "      <td>...</td>\n",
       "      <td>...</td>\n",
       "      <td>...</td>\n",
       "      <td>...</td>\n",
       "    </tr>\n",
       "    <tr>\n",
       "      <th>59495</th>\n",
       "      <td>(9, 'BOOKS')</td>\n",
       "      <td>2017-07-18</td>\n",
       "      <td>0.0</td>\n",
       "      <td>46.40</td>\n",
       "      <td>0</td>\n",
       "    </tr>\n",
       "    <tr>\n",
       "      <th>59496</th>\n",
       "      <td>(9, 'BOOKS')</td>\n",
       "      <td>2017-07-19</td>\n",
       "      <td>0.0</td>\n",
       "      <td>47.10</td>\n",
       "      <td>0</td>\n",
       "    </tr>\n",
       "    <tr>\n",
       "      <th>59497</th>\n",
       "      <td>(9, 'BOOKS')</td>\n",
       "      <td>2017-07-20</td>\n",
       "      <td>0.0</td>\n",
       "      <td>46.73</td>\n",
       "      <td>0</td>\n",
       "    </tr>\n",
       "    <tr>\n",
       "      <th>59498</th>\n",
       "      <td>(9, 'BOOKS')</td>\n",
       "      <td>2017-07-21</td>\n",
       "      <td>0.0</td>\n",
       "      <td>45.78</td>\n",
       "      <td>0</td>\n",
       "    </tr>\n",
       "    <tr>\n",
       "      <th>59499</th>\n",
       "      <td>(9, 'BOOKS')</td>\n",
       "      <td>2017-07-24</td>\n",
       "      <td>0.0</td>\n",
       "      <td>46.21</td>\n",
       "      <td>0</td>\n",
       "    </tr>\n",
       "  </tbody>\n",
       "</table>\n",
       "<p>59500 rows × 5 columns</p>\n",
       "</div>"
      ],
      "text/plain": [
       "            serie_id       date  sales  dcoilwtico  group\n",
       "0      (10, 'BOOKS') 2013-01-01    0.0        0.00      0\n",
       "1      (10, 'BOOKS') 2013-01-02    0.0       93.14      0\n",
       "2      (10, 'BOOKS') 2013-01-03    0.0       92.97      0\n",
       "3      (10, 'BOOKS') 2013-01-04    0.0       93.12      0\n",
       "4      (10, 'BOOKS') 2013-01-07    0.0       93.20      0\n",
       "...              ...        ...    ...         ...    ...\n",
       "59495   (9, 'BOOKS') 2017-07-18    0.0       46.40      0\n",
       "59496   (9, 'BOOKS') 2017-07-19    0.0       47.10      0\n",
       "59497   (9, 'BOOKS') 2017-07-20    0.0       46.73      0\n",
       "59498   (9, 'BOOKS') 2017-07-21    0.0       45.78      0\n",
       "59499   (9, 'BOOKS') 2017-07-24    0.0       46.21      0\n",
       "\n",
       "[59500 rows x 5 columns]"
      ]
     },
     "execution_count": 3,
     "metadata": {},
     "output_type": "execute_result"
    }
   ],
   "source": [
    "train_data"
   ]
  },
  {
   "cell_type": "code",
   "execution_count": 4,
   "id": "46a8fec5",
   "metadata": {},
   "outputs": [],
   "source": [
    "from ipywidgets import *\n",
    "import matplotlib.pyplot as plt\n",
    "import seaborn as sns\n",
    "import numpy as np\n",
    "import pandas as pd\n",
    "import warnings \n",
    "warnings.filterwarnings(\"ignore\")\n",
    "sns.set_style(\"darkgrid\")"
   ]
  },
  {
   "cell_type": "code",
   "execution_count": 5,
   "id": "0899eb49",
   "metadata": {},
   "outputs": [
    {
     "data": {
      "text/plain": [
       "'0.11.2'"
      ]
     },
     "execution_count": 5,
     "metadata": {},
     "output_type": "execute_result"
    }
   ],
   "source": [
    "sns.__version__"
   ]
  },
  {
   "cell_type": "code",
   "execution_count": 6,
   "id": "1c8f6866",
   "metadata": {},
   "outputs": [],
   "source": [
    "def fit_and_pred(model, model_name, train, y_true, train_data, test_data, X, X_test):\n",
    "    model.fit(y=train, X=X)\n",
    "    y_pred = model.predict(y_true.shape[0], X=X_test)\n",
    "    y_pred[y_pred < 0] = 0\n",
    "    \n",
    "    error = np.sqrt(mean_squared_log_error(y_true + 1, y_pred + 1))\n",
    "    pred_data = test_data.copy()\n",
    "    pred_data[\"sales\"] = y_pred.values\n",
    "    \n",
    "    pred_data[\"Validation\"] = model_name\n",
    "    serie_data = pd.concat((train_data, pred_data), ignore_index=True)\n",
    "    return serie_data, error"
   ]
  },
  {
   "cell_type": "code",
   "execution_count": 9,
   "id": "20f58d48",
   "metadata": {},
   "outputs": [
    {
     "data": {
      "application/vnd.jupyter.widget-view+json": {
       "model_id": "bd6b62082f394d0fa2871005d406244b",
       "version_major": 2,
       "version_minor": 0
      },
      "text/plain": [
       "interactive(children=(Dropdown(description='serie_id', options=(\"(11, 'LAWN AND GARDEN')\", \"(19, 'CLEANING')\",…"
      ]
     },
     "metadata": {},
     "output_type": "display_data"
    }
   ],
   "source": [
    "from time_series_kedro.extras.models import *\n",
    "from sklearn.metrics import mean_squared_error, mean_absolute_percentage_error, mean_squared_log_error\n",
    "\n",
    "def plot_serie(\n",
    "    serie_id=(5, \"LADIESWEAR\"), \n",
    "    start=2017,\n",
    "    seasonal_periods=2,\n",
    "    seasonal=None,\n",
    "    trend=None):\n",
    "    train_serie_data = train_data[train_data.serie_id == serie_id]\n",
    "    train_serie_data[\"Validation\"] = \"train\"\n",
    "    test_serie_data = test_data[test_data.serie_id == serie_id]\n",
    "    test_serie_data[\"Validation\"] = \"test\"\n",
    "    train_serie_data = train_serie_data[(train_serie_data.date.dt.year) >= start]\n",
    "    serie_data = pd.concat((train_serie_data, test_serie_data), ignore_index=True)\n",
    "    \n",
    "    X = train_serie_data[[\"date\", \"dcoilwtico\"]].set_index(\"date\")\n",
    "    X_test = test_serie_data[[\"date\", \"dcoilwtico\"]].set_index(\"date\")\n",
    "    train = train_serie_data.set_index(\"date\").sales\n",
    "    y_true = test_serie_data.set_index(\"date\").sales\n",
    "    \n",
    "    train = train + 1\n",
    "    serie_data, error = fit_and_pred(ExponentialSmoothing(seasonal_periods=seasonal_periods, seasonal=seasonal, trend=trend),\n",
    "                              \"es\", train, y_true, serie_data, test_serie_data, X=None, X_test=None)\n",
    "    serie_data, error = fit_and_pred(Prophet(period=seasonal_periods, seasonality=seasonal),\n",
    "                              \"prophet\", train, y_true, serie_data, test_serie_data, X=X, X_test=X_test)\n",
    "    fig = plt.figure(figsize=(18, 10))\n",
    "    ax = fig.add_subplot(1, 1, 1)\n",
    "    serie_data = serie_data[(serie_data.date.dt.year) >= 2017]\n",
    "    ax.set_title(f\"Serie group: {serie_data.group.values[0]}, Error: {error:.2f}\")\n",
    "    sns.lineplot(x=\"date\", y=\"sales\", data=serie_data, ax=ax, hue=\"Validation\")\n",
    "    \n",
    "   #serie_data.sales.plot(ax=ax)\n",
    "interact(plot_serie, \n",
    "         serie_id=train_data[train_data.group > 0].serie_id.unique(), \n",
    "         start=range(2013, 2018, 1),\n",
    "         seasonal=[\"additive\", \"multiplicative\", None],\n",
    "         trend=[\"additive\", None],\n",
    "         seasonal_periods=(2,30,1));"
   ]
  },
  {
   "cell_type": "code",
   "execution_count": 8,
   "id": "fe6dc8c0",
   "metadata": {},
   "outputs": [
    {
     "ename": "NameError",
     "evalue": "name 'agrup' is not defined",
     "output_type": "error",
     "traceback": [
      "\u001b[0;31m---------------------------------------------------------------------------\u001b[0m",
      "\u001b[0;31mNameError\u001b[0m                                 Traceback (most recent call last)",
      "\u001b[0;32m/tmp/ipykernel_13056/2490761727.py\u001b[0m in \u001b[0;36m<module>\u001b[0;34m\u001b[0m\n\u001b[1;32m      1\u001b[0m \u001b[0mserie_cols\u001b[0m \u001b[0;34m=\u001b[0m \u001b[0;34m[\u001b[0m\u001b[0;34m\"store_nbr\"\u001b[0m\u001b[0;34m,\u001b[0m \u001b[0;34m\"family\"\u001b[0m\u001b[0;34m]\u001b[0m\u001b[0;34m\u001b[0m\u001b[0;34m\u001b[0m\u001b[0m\n\u001b[0;32m----> 2\u001b[0;31m \u001b[0mtrain_data\u001b[0m\u001b[0;34m[\u001b[0m\u001b[0;34m'serie'\u001b[0m\u001b[0;34m]\u001b[0m \u001b[0;34m=\u001b[0m \u001b[0mlist\u001b[0m\u001b[0;34m(\u001b[0m\u001b[0mmap\u001b[0m\u001b[0;34m(\u001b[0m\u001b[0mstr\u001b[0m\u001b[0;34m,\u001b[0m \u001b[0mzip\u001b[0m\u001b[0;34m(\u001b[0m\u001b[0;34m*\u001b[0m\u001b[0;34m[\u001b[0m\u001b[0mtrain_data\u001b[0m\u001b[0;34m[\u001b[0m\u001b[0mc\u001b[0m\u001b[0;34m]\u001b[0m \u001b[0;32mfor\u001b[0m \u001b[0mc\u001b[0m \u001b[0;32min\u001b[0m \u001b[0magrup\u001b[0m\u001b[0;34m]\u001b[0m\u001b[0;34m)\u001b[0m\u001b[0;34m)\u001b[0m\u001b[0;34m)\u001b[0m\u001b[0;34m\u001b[0m\u001b[0;34m\u001b[0m\u001b[0m\n\u001b[0m",
      "\u001b[0;31mNameError\u001b[0m: name 'agrup' is not defined"
     ]
    }
   ],
   "source": [
    "serie_cols = [\"store_nbr\", \"family\"]\n",
    "train_data['serie'] = list(map(str, zip(*[train_data[c] for c in agrup])))"
   ]
  },
  {
   "cell_type": "code",
   "execution_count": null,
   "id": "7e841dd9",
   "metadata": {},
   "outputs": [],
   "source": []
  }
 ],
 "metadata": {
  "kernelspec": {
   "display_name": "time_series_kedro",
   "language": "python",
   "name": "python3"
  },
  "language_info": {
   "codemirror_mode": {
    "name": "ipython",
    "version": 3
   },
   "file_extension": ".py",
   "mimetype": "text/x-python",
   "name": "python",
   "nbconvert_exporter": "python",
   "pygments_lexer": "ipython3",
   "version": "3.8.10"
  }
 },
 "nbformat": 4,
 "nbformat_minor": 5
}
