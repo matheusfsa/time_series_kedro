{
 "cells": [
  {
   "cell_type": "code",
   "execution_count": 3,
   "id": "d5e2cd93",
   "metadata": {},
   "outputs": [
    {
     "name": "stdout",
     "output_type": "stream",
     "text": [
      "2022-02-14 21:20:41,435 - kedro.framework.hooks.manager - INFO - Registered hooks from 1 installed plugin(s): kedro-mlflow-0.7.6\n",
      "2022-02-14 21:20:41,519 - kedro.framework.session.store - INFO - `read()` not implemented for `BaseSessionStore`. Assuming empty store.\n",
      "2022-02-14 21:20:41,564 - kedro.config.config - INFO - Config from path `/home/matheus/projects/time_series_kedro/conf/local` will override the following existing top-level config keys: fr_horizon, initial, models, n_jobs, sampling, stride\n",
      "2022-02-14 21:20:41,566 - root - INFO - ** Kedro project time_series_kedro\n",
      "2022-02-14 21:20:41,567 - root - INFO - Defined global variable `context`, `session`, `catalog` and `pipelines`\n",
      "2022-02-14 21:20:41,587 - root - INFO - Registered line magic `run_viz`\n",
      "2022-02-14 21:20:41,588 - root - INFO - Registered line magic `reload_kedro_mlflow`\n",
      "2022-02-14 21:20:41,589 - kedro.io.data_catalog - INFO - Loading data from `train_data` (CSVDataSet)...\n"
     ]
    },
    {
     "name": "stderr",
     "output_type": "stream",
     "text": [
      "/home/matheus/.local/lib/python3.8/site-packages/kedro/io/core.py:151: DeprecatedWarning: __init__ is deprecated as of 0.7.3 and will be removed in 0.8.0. Deprecated in favor of 'MlflowMetricDataSet' (for a single metric) or 'MlflowMetricHistoryDataSet '(for the metric evolution over time)\n",
      "  data_set = class_obj(**config)  # type: ignore\n",
      "/home/matheus/.local/lib/python3.8/site-packages/kedro_mlflow/framework/hooks/pipeline_hook.py:53: DeprecatedWarning: __init__ is deprecated as of 0.7.3 and will be removed in 0.8.0. Deprecated in favor of 'MlflowMetricDataSet' (for a single metric) or 'MlflowMetricHistoryDataSet '(for the metric evolution over time)\n",
      "  catalog._data_sets[name] = MlflowMetricsDataSet(prefix=name)\n"
     ]
    },
    {
     "name": "stdout",
     "output_type": "stream",
     "text": [
      "2022-02-14 21:20:42,788 - kedro.io.data_catalog - INFO - Loading data from `eval_data` (CSVDataSet)...\n"
     ]
    }
   ],
   "source": [
    "%reload_kedro\n",
    "train_data = catalog.load(\"train_data\")\n",
    "test_data = catalog.load(\"eval_data\")"
   ]
  },
  {
   "cell_type": "code",
   "execution_count": 4,
   "id": "636d1c3e",
   "metadata": {},
   "outputs": [],
   "source": [
    "import numpy as np\n",
    "import pandas as pd\n",
    "from sklearn.base import RegressorMixin, BaseEstimator\n",
    "from sklearn.ensemble import RandomForestRegressor\n",
    "from sklearn.svm import LinearSVR\n",
    "from sklearn.ensemble import AdaBoostRegressor\n",
    "from sklearn.preprocessing import PolynomialFeatures\n",
    "from sklearn.linear_model import Ridge, Lasso\n",
    "from sklearn.pipeline import  make_pipeline\n",
    "\n",
    "import logging\n",
    "import warnings\n",
    "warnings.filterwarnings(\"ignore\")\n",
    "\n",
    "class RegressionModel(RegressorMixin, BaseEstimator):\n",
    "    '''\n",
    "\n",
    "    '''\n",
    "    def __init__(self, base_estimator, lags=1, poly_degree=1, **kwargs):\n",
    "        self._base_estimator = base_estimator\n",
    "        self.lags = lags\n",
    "        self.poly_degree = poly_degree\n",
    "        self.params = ['lags','poly_degree'] + list(kwargs.keys())\n",
    "        for parameter, value in kwargs.items():\n",
    "            setattr(self, parameter, value)\n",
    "\n",
    "    def _create_lagged_data(\n",
    "        self, \n",
    "        target_series, \n",
    "    ):\n",
    "        n_in = self.lags\n",
    "        n_out = 1\n",
    "        data = target_series.copy()\n",
    "        \n",
    "        n_vars = 1 if len(data.shape) == 1 else data.shape[-1]\n",
    "        \n",
    "        df = pd.DataFrame(data)\n",
    "        cols, names = list(), list()\n",
    "        # input sequence (t-n, ... t-1)\n",
    "        for i in range(n_in, 0, -1):\n",
    "            cols.append(df.shift(i))\n",
    "            names += [('var%d(t-%d)' % (j+1, i)) for j in range(n_vars)]\n",
    "        # forecast sequence (t, t+1, ... t+n)\n",
    "        for i in range(0, n_out):\n",
    "            cols.append(df.shift(-i))\n",
    "            if i == 0:\n",
    "                names += [('var%d(t)' % (j+1)) for j in range(n_vars)]\n",
    "            else:\n",
    "                names += [('var%d(t+%d)' % (j+1, i)) for j in range(n_vars)]\n",
    "\n",
    "        # put it all together\n",
    "        agg = pd.concat(cols, axis=1)\n",
    "        agg.columns = names\n",
    "        agg.dropna(inplace=True)\n",
    "        X = agg.iloc[:, :-1].values\n",
    "        y = agg.iloc[:, -1].values\n",
    "        return X, y        \n",
    "\n",
    "    def fit(self, y, X=None):\n",
    "        logging.disable(logging.ERROR)\n",
    "        \n",
    "        ts = y.values\n",
    "        \n",
    "        self._train_series = ts.copy()\n",
    "        X_train, y_train = self._create_lagged_data(ts)\n",
    "        if X is not None:\n",
    "            exog_lagged_data = []\n",
    "            for exog in X.columns:\n",
    "                X_exog, y_exog= self._create_lagged_data(X[exog])\n",
    "                exog_lagged_data = np.concatenate((X_exog, y_exog.reshape(-1, 1)), axis=1)\n",
    "                X_train = np.concatenate([X_train, exog_lagged_data], axis=1)\n",
    "        self._lagged_data = (X_train, y_train)\n",
    "        model_params = self.get_params().copy()\n",
    "        del model_params[\"lags\"]\n",
    "        del model_params[\"poly_degree\"]\n",
    "        \n",
    "        steps = []\n",
    "        if self.poly_degree > 1:\n",
    "            steps.append(PolynomialFeatures(self.poly_degree))\n",
    "        steps.append(self._base_estimator(**model_params))\n",
    "        self._model = make_pipeline(*steps)\n",
    "        print(self._lagged_data[0].shape)\n",
    "        X, y = self._lagged_data\n",
    "        self._model.fit(X, y)\n",
    "        logging.disable(logging.NOTSET)\n",
    "        return self\n",
    "        \n",
    "    \n",
    "    def predict(self, n_periods, X=None):\n",
    "        logging.disable(logging.ERROR)\n",
    "        X_hist = np.zeros(self._lagged_data[0].shape[-1])\n",
    "        X_hist[:self.lags] = self._lagged_data[0][-1, :self.lags]\n",
    "        X_hist[self.lags - 1] = self._lagged_data[1][-1]\n",
    "        preds = []\n",
    "\n",
    "        for i in range(n_periods):\n",
    "            if X is not None:\n",
    "                for i, exog in enumerate(X.columns):\n",
    "                    X_hist[self.lags + i] = X[exog].iloc[i]\n",
    "            pred = self._model.predict(X_hist.reshape(1, -1))\n",
    "            preds.append(pred[0])\n",
    "            X_hist = np.roll(X_hist, -1)\n",
    "            X_hist[self.lags-1] = pred\n",
    "            \n",
    "        logging.disable(logging.NOTSET)\n",
    "        return np.array(preds)\n",
    "    \n",
    "    \n",
    "    def get_params(self, deep=True):\n",
    "        \n",
    "        self.parameters = {}\n",
    "        for p in self.params:\n",
    "            self.parameters[p] = getattr(self, p)\n",
    "    \n",
    "        return self.parameters\n",
    "    \n",
    "    \n",
    "    \n",
    "    def set_params(self, **parameters):\n",
    "        \n",
    "        for parameter, value in parameters.items():\n",
    "            setattr(self, parameter, value)\n",
    "            \n",
    "        return self\n",
    "\n",
    "class RandomForestForecaster(RegressionModel):\n",
    "    def __init__(self, lags=1, **kwargs):\n",
    "        super().__init__(base_estimator=RandomForestRegressor, lags=lags, **kwargs)\n",
    "\n",
    "class SVRForecaster(RegressionModel):\n",
    "    def __init__(self, lags=1, **kwargs):\n",
    "        super().__init__(base_estimator=LinearSVR, lags=lags, **kwargs)  \n",
    "        \n",
    "class AdaForecaster(RegressionModel):\n",
    "    def __init__(self, lags=1, **kwargs):\n",
    "        \n",
    "        super().__init__(base_estimator=AdaBoostRegressor, lags=lags, **kwargs)\n",
    "\n",
    "class RidgeForecaster(RegressionModel):\n",
    "    def __init__(self, lags=1, **kwargs):\n",
    "        \n",
    "        super().__init__(base_estimator=Ridge, lags=lags, **kwargs)\n",
    "\n",
    "class LassoForecaster(RegressionModel):\n",
    "    def __init__(self, lags=1, **kwargs):\n",
    "        super().__init__(base_estimator=Lasso, lags=lags, **kwargs)"
   ]
  },
  {
   "cell_type": "code",
   "execution_count": 6,
   "id": "d9de06d7",
   "metadata": {},
   "outputs": [
    {
     "name": "stdout",
     "output_type": "stream",
     "text": [
      "(1160, 61)\n"
     ]
    },
    {
     "data": {
      "text/plain": [
       "array([25.4749459 , 28.01467371, 25.17464311, 28.9783228 , 23.91126674,\n",
       "       26.27670411, 29.49711263, 27.17997935, 29.25323414, 25.26206865,\n",
       "       28.57824594, 25.32019107, 28.90779148, 29.80519692, 25.73226984,\n",
       "       27.03503651])"
      ]
     },
     "execution_count": 6,
     "metadata": {},
     "output_type": "execute_result"
    }
   ],
   "source": [
    "date_col = \"date\"\n",
    "serie_data = train_data[(train_data.store_nbr==27) & (train_data.family=='HOME AND KITCHEN II')]\n",
    "exog_info = catalog.load(\"params:exog\")\n",
    "exog_columns = []\n",
    "if exog_info is not None:\n",
    "    for exog_name in exog_info:\n",
    "        exog_columns += exog_info[exog_name][\"target_columns\"]\n",
    "ts = serie_data.set_index(\"date\").sales\n",
    "X = serie_data[exog_columns + [date_col]].set_index(date_col)\n",
    "X_test = test_data[exog_columns + [date_col]].set_index(date_col)\n",
    "estimator = RidgeForecaster(lags=30)\n",
    "estimator.fit(ts, X=X)\n",
    "estimator.predict(16, X=X_test)"
   ]
  },
  {
   "cell_type": "code",
   "execution_count": 13,
   "id": "b3b1a88c",
   "metadata": {},
   "outputs": [
    {
     "data": {
      "text/plain": [
       "5.683333333333334"
      ]
     },
     "execution_count": 13,
     "metadata": {},
     "output_type": "execute_result"
    }
   ],
   "source": [
    "((ts.shape[0] - ts.shape[0]*0.7) - 16)/60"
   ]
  },
  {
   "cell_type": "code",
   "execution_count": null,
   "id": "f02e0a9d",
   "metadata": {},
   "outputs": [],
   "source": []
  }
 ],
 "metadata": {
  "kernelspec": {
   "display_name": "time_series_kedro",
   "language": "python",
   "name": "python3"
  },
  "language_info": {
   "codemirror_mode": {
    "name": "ipython",
    "version": 3
   },
   "file_extension": ".py",
   "mimetype": "text/x-python",
   "name": "python",
   "nbconvert_exporter": "python",
   "pygments_lexer": "ipython3",
   "version": "3.8.10"
  }
 },
 "nbformat": 4,
 "nbformat_minor": 5
}
