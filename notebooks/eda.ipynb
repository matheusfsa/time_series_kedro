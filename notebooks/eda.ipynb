{
 "cells": [
  {
   "cell_type": "code",
   "execution_count": 5,
   "id": "c44f3826-b4d7-46d4-b94a-eb35e6e35a6c",
   "metadata": {},
   "outputs": [
    {
     "data": {
      "text/plain": [
       "[('gt', 'gt', 'gt'),\n",
       " ('gt', 'gt', 'le'),\n",
       " ('gt', 'le', 'gt'),\n",
       " ('gt', 'le', 'le'),\n",
       " ('le', 'gt', 'gt'),\n",
       " ('le', 'gt', 'le'),\n",
       " ('le', 'le', 'gt'),\n",
       " ('le', 'le', 'le')]"
      ]
     },
     "execution_count": 5,
     "metadata": {},
     "output_type": "execute_result"
    }
   ],
   "source": [
    "from itertools import combinations, product\n",
    "list(combinations([\"gt\", \"le\"], 3))\n",
    "list(product([\"gt\", \"le\"], repeat=3))"
   ]
  },
  {
   "cell_type": "code",
   "execution_count": 56,
   "id": "0b302df2-a8e7-416f-b4cc-8c2ae71719b5",
   "metadata": {},
   "outputs": [
    {
     "name": "stdout",
     "output_type": "stream",
     "text": [
      "2022-02-03 19:53:44,346 - kedro.framework.session.store - INFO - `read()` not implemented for `BaseSessionStore`. Assuming empty store.\n",
      "2022-02-03 19:53:44,384 - root - INFO - ** Kedro project time_series_kedro\n",
      "2022-02-03 19:53:44,386 - root - INFO - Defined global variable `context`, `session`, `catalog` and `pipelines`\n",
      "2022-02-03 19:53:44,401 - root - INFO - Registered line magic `run_viz`\n",
      "2022-02-03 19:53:44,403 - kedro.io.data_catalog - INFO - Loading data from `train_data` (CSVDataSet)...\n",
      "2022-02-03 19:53:46,021 - kedro.io.data_catalog - INFO - Loading data from `prepared_data` (CSVDataSet)...\n",
      "2022-02-03 19:53:46,050 - kedro.io.data_catalog - INFO - Loading data from `test_data` (CSVDataSet)...\n",
      "2022-02-03 19:53:46,071 - kedro.io.data_catalog - INFO - Loading data from `seg_metrics` (CSVDataSet)...\n",
      "2022-02-03 19:53:46,075 - kedro.io.data_catalog - INFO - Loading data from `seg_groups` (CSVDataSet)...\n"
     ]
    }
   ],
   "source": [
    "%reload_kedro\n",
    "train = catalog.load(\"train_data\")\n",
    "prepared_data = catalog.load(\"prepared_data\")\n",
    "test = catalog.load(\"test_data\")\n",
    "seg_metrics = catalog.load(\"seg_metrics\")\n",
    "seg_groups = catalog.load(\"seg_groups\")"
   ]
  },
  {
   "cell_type": "code",
   "execution_count": 59,
   "id": "8b8ab084-999f-4067-8484-c265823b2b6d",
   "metadata": {},
   "outputs": [
    {
     "data": {
      "text/html": [
       "<div>\n",
       "<style scoped>\n",
       "    .dataframe tbody tr th:only-of-type {\n",
       "        vertical-align: middle;\n",
       "    }\n",
       "\n",
       "    .dataframe tbody tr th {\n",
       "        vertical-align: top;\n",
       "    }\n",
       "\n",
       "    .dataframe thead th {\n",
       "        text-align: right;\n",
       "    }\n",
       "</style>\n",
       "<table border=\"1\" class=\"dataframe\">\n",
       "  <thead>\n",
       "    <tr style=\"text-align: right;\">\n",
       "      <th></th>\n",
       "      <th>sample_entropy</th>\n",
       "      <th>cv</th>\n",
       "      <th>len_ts</th>\n",
       "      <th>acc_12m</th>\n",
       "      <th>adf</th>\n",
       "    </tr>\n",
       "  </thead>\n",
       "  <tbody>\n",
       "    <tr>\n",
       "      <th>sample_entropy</th>\n",
       "      <td>1.000000</td>\n",
       "      <td>-0.707098</td>\n",
       "      <td>0.603126</td>\n",
       "      <td>-0.033596</td>\n",
       "      <td>-0.169326</td>\n",
       "    </tr>\n",
       "    <tr>\n",
       "      <th>cv</th>\n",
       "      <td>-0.707098</td>\n",
       "      <td>1.000000</td>\n",
       "      <td>-0.476228</td>\n",
       "      <td>-0.167972</td>\n",
       "      <td>-0.061142</td>\n",
       "    </tr>\n",
       "    <tr>\n",
       "      <th>len_ts</th>\n",
       "      <td>0.603126</td>\n",
       "      <td>-0.476228</td>\n",
       "      <td>1.000000</td>\n",
       "      <td>0.224550</td>\n",
       "      <td>0.028606</td>\n",
       "    </tr>\n",
       "    <tr>\n",
       "      <th>acc_12m</th>\n",
       "      <td>-0.033596</td>\n",
       "      <td>-0.167972</td>\n",
       "      <td>0.224550</td>\n",
       "      <td>1.000000</td>\n",
       "      <td>0.115074</td>\n",
       "    </tr>\n",
       "    <tr>\n",
       "      <th>adf</th>\n",
       "      <td>-0.169326</td>\n",
       "      <td>-0.061142</td>\n",
       "      <td>0.028606</td>\n",
       "      <td>0.115074</td>\n",
       "      <td>1.000000</td>\n",
       "    </tr>\n",
       "  </tbody>\n",
       "</table>\n",
       "</div>"
      ],
      "text/plain": [
       "                sample_entropy        cv    len_ts   acc_12m       adf\n",
       "sample_entropy        1.000000 -0.707098  0.603126 -0.033596 -0.169326\n",
       "cv                   -0.707098  1.000000 -0.476228 -0.167972 -0.061142\n",
       "len_ts                0.603126 -0.476228  1.000000  0.224550  0.028606\n",
       "acc_12m              -0.033596 -0.167972  0.224550  1.000000  0.115074\n",
       "adf                  -0.169326 -0.061142  0.028606  0.115074  1.000000"
      ]
     },
     "execution_count": 59,
     "metadata": {},
     "output_type": "execute_result"
    }
   ],
   "source": [
    "seg_metrics.corr()"
   ]
  },
  {
   "cell_type": "code",
   "execution_count": 66,
   "id": "141eddbf-a5a0-4aec-857c-e42db9ba7eaa",
   "metadata": {},
   "outputs": [],
   "source": [
    "series_ids = []\n",
    "for i in range(1, 5):\n",
    "    series_ids.append(seg_groups[seg_groups.group == i].iloc[0, 0])"
   ]
  },
  {
   "cell_type": "code",
   "execution_count": 74,
   "id": "8c512af0-a92d-43be-a4ea-5bce28962d4f",
   "metadata": {},
   "outputs": [
    {
     "data": {
      "image/png": "[encoded data removed]",
      "text/plain": [
       "<Figure size 432x288 with 1 Axes>"
      ]
     },
     "metadata": {
      "needs_background": "light"
     },
     "output_type": "display_data"
    }
   ],
   "source": [
    "import matplotlib.pyplot as plt\n",
    "fig, ax = plt.subplots()\n",
    "for i, serie_id in enumerate(series_ids):\n",
    "    prepared_data[prepared_data.family == serie_id].set_index(\"date\").sales.plot(ax=ax)\n",
    "    ax.legend(f\"{i+1}\")"
   ]
  },
  {
   "cell_type": "code",
   "execution_count": 77,
   "id": "a14627e6-7fed-4117-976e-3f18140dea67",
   "metadata": {},
   "outputs": [
    {
     "data": {
      "text/plain": [
       "<AxesSubplot:xlabel='date'>"
      ]
     },
     "execution_count": 77,
     "metadata": {},
     "output_type": "execute_result"
    },
    {
     "data": {
      "image/png": "[encoded data removed]",
      "text/plain": [
       "<Figure size 432x288 with 1 Axes>"
      ]
     },
     "metadata": {
      "needs_background": "light"
     },
     "output_type": "display_data"
    }
   ],
   "source": [
    "prepared_data[prepared_data.family == series_ids[0]].set_index(\"date\").sales.plot()"
   ]
  },
  {
   "cell_type": "code",
   "execution_count": 78,
   "id": "c2638490-f67a-4228-81a1-d74a06627397",
   "metadata": {},
   "outputs": [
    {
     "data": {
      "text/plain": [
       "<AxesSubplot:xlabel='date'>"
      ]
     },
     "execution_count": 78,
     "metadata": {},
     "output_type": "execute_result"
    },
    {
     "data": {
      "image/png": "[encoded data removed]",
      "text/plain": [
       "<Figure size 432x288 with 1 Axes>"
      ]
     },
     "metadata": {
      "needs_background": "light"
     },
     "output_type": "display_data"
    }
   ],
   "source": [
    "prepared_data[prepared_data.family == series_ids[1]].set_index(\"date\").sales.plot()"
   ]
  },
  {
   "cell_type": "code",
   "execution_count": 79,
   "id": "887d2aff-37a0-49af-9dfd-a6cebc8a3e16",
   "metadata": {},
   "outputs": [
    {
     "data": {
      "text/plain": [
       "<AxesSubplot:xlabel='date'>"
      ]
     },
     "execution_count": 79,
     "metadata": {},
     "output_type": "execute_result"
    },
    {
     "data": {
      "image/png": "[encoded data removed]",
      "text/plain": [
       "<Figure size 432x288 with 1 Axes>"
      ]
     },
     "metadata": {
      "needs_background": "light"
     },
     "output_type": "display_data"
    }
   ],
   "source": [
    "prepared_data[prepared_data.family == series_ids[2]].set_index(\"date\").sales.plot()"
   ]
  },
  {
   "cell_type": "code",
   "execution_count": 80,
   "id": "2ea734b0-d1b3-4c23-a559-30d7d64300bb",
   "metadata": {},
   "outputs": [
    {
     "data": {
      "text/plain": [
       "<AxesSubplot:xlabel='date'>"
      ]
     },
     "execution_count": 80,
     "metadata": {},
     "output_type": "execute_result"
    },
    {
     "data": {
      "image/png": "[encoded data removed]",
      "text/plain": [
       "<Figure size 432x288 with 1 Axes>"
      ]
     },
     "metadata": {
      "needs_background": "light"
     },
     "output_type": "display_data"
    }
   ],
   "source": [
    "prepared_data[prepared_data.family == series_ids[3]].set_index(\"date\").sales.plot()"
   ]
  },
  {
   "cell_type": "code",
   "execution_count": 10,
   "id": "eefe1080-f100-40ee-b37c-096130ef6e7c",
   "metadata": {},
   "outputs": [
    {
     "name": "stdout",
     "output_type": "stream",
     "text": [
      "2022-02-03 18:47:12,717 - kedro.io.data_catalog - INFO - Loading data from `params:group_divisions` (MemoryDataSet)...\n"
     ]
    },
    {
     "data": {
      "text/plain": [
       "['cv', 'acc_12m']"
      ]
     },
     "execution_count": 10,
     "metadata": {},
     "output_type": "execute_result"
    }
   ],
   "source": [
    "group_divisions = catalog.load(\"params:group_divisions\")\n",
    "metrics = list(group_divisions)\n",
    "metrics"
   ]
  },
  {
   "cell_type": "code",
   "execution_count": 11,
   "id": "c1dfefec-5b56-4e28-bb18-d7105f5e6dce",
   "metadata": {},
   "outputs": [
    {
     "data": {
      "text/plain": [
       "[(0, ('gt', 'gt')), (1, ('gt', 'le')), (2, ('le', 'gt')), (3, ('le', 'le'))]"
      ]
     },
     "execution_count": 11,
     "metadata": {},
     "output_type": "execute_result"
    }
   ],
   "source": [
    "list(enumerate(product([\"gt\", \"le\"], repeat=len(metrics))))"
   ]
  },
  {
   "cell_type": "code",
   "execution_count": 47,
   "id": "35fc3186-2945-444e-a5f9-84de68ea3f71",
   "metadata": {},
   "outputs": [],
   "source": [
    "from typing import Any, Dict, List, Union\n",
    "import numpy as np\n",
    "import pandas as pd\n",
    "from itertools import product\n",
    "def time_series_segmentation(\n",
    "    seg_metrics: pd.DataFrame, \n",
    "    group_divisions: Dict[str, Any]):\n",
    "    \n",
    "    metrics = list(group_divisions)\n",
    "    n_groups = len(metrics) * 2\n",
    "    seg_metrics[\"group\"] = 0\n",
    "    for i, group in enumerate(product([\"gt\", \"le\"], repeat=len(metrics))):\n",
    "        series_filter = True \n",
    "        for comp, metric in zip(group, metrics):\n",
    "            method = group_divisions[metric][\"method\"]\n",
    "            args = group_divisions[metric][\"args\"]\n",
    "            value = getattr(seg_metrics[metric], method)(*args)\n",
    "            comp_filter = getattr(seg_metrics[metric], comp)(value)\n",
    "            series_filter = series_filter & comp_filter\n",
    "        seg_metrics.loc[series_filter, \"group\"] = i + 1\n",
    "    return seg_metrics"
   ]
  },
  {
   "cell_type": "code",
   "execution_count": 48,
   "id": "5e8d819a-639f-4ab1-aa16-206aded477a7",
   "metadata": {},
   "outputs": [
    {
     "data": {
      "text/plain": [
       "[('gt', 'cv'), ('gt', 'acc_12m')]"
      ]
     },
     "execution_count": 48,
     "metadata": {},
     "output_type": "execute_result"
    }
   ],
   "source": [
    "list(product([\"gt\"], metrics))"
   ]
  },
  {
   "cell_type": "code",
   "execution_count": 49,
   "id": "7f542e03-d592-4179-98b2-de67c3b1e978",
   "metadata": {},
   "outputs": [
    {
     "data": {
      "text/plain": [
       "[(0, ('gt', 'gt')), (1, ('gt', 'le')), (2, ('le', 'gt')), (3, ('le', 'le'))]"
      ]
     },
     "execution_count": 49,
     "metadata": {},
     "output_type": "execute_result"
    }
   ],
   "source": [
    "list(enumerate((product([\"gt\", \"le\"], repeat=len(metrics)))))"
   ]
  },
  {
   "cell_type": "code",
   "execution_count": null,
   "id": "b0c0d9e5-ce5c-4a2b-9484-a233f4769271",
   "metadata": {},
   "outputs": [],
   "source": []
  },
  {
   "cell_type": "code",
   "execution_count": 51,
   "id": "8ede448d-7619-4e60-8a2a-4558ed5a8411",
   "metadata": {},
   "outputs": [
    {
     "name": "stdout",
     "output_type": "stream",
     "text": [
      "('gt', 'gt')\n",
      "gt cv\n",
      "gt acc_12m\n",
      "('gt', 'le')\n",
      "gt cv\n",
      "le acc_12m\n",
      "('le', 'gt')\n",
      "le cv\n",
      "gt acc_12m\n",
      "('le', 'le')\n",
      "le cv\n",
      "le acc_12m\n"
     ]
    },
    {
     "data": {
      "text/html": [
       "<div>\n",
       "<style scoped>\n",
       "    .dataframe tbody tr th:only-of-type {\n",
       "        vertical-align: middle;\n",
       "    }\n",
       "\n",
       "    .dataframe tbody tr th {\n",
       "        vertical-align: top;\n",
       "    }\n",
       "\n",
       "    .dataframe thead th {\n",
       "        text-align: right;\n",
       "    }\n",
       "</style>\n",
       "<table border=\"1\" class=\"dataframe\">\n",
       "  <thead>\n",
       "    <tr style=\"text-align: right;\">\n",
       "      <th></th>\n",
       "      <th>family</th>\n",
       "      <th>sample_entropy</th>\n",
       "      <th>cv</th>\n",
       "      <th>len_ts</th>\n",
       "      <th>acc_12m</th>\n",
       "      <th>group</th>\n",
       "      <th>gt_cv</th>\n",
       "      <th>le_cv</th>\n",
       "      <th>gt_acc_12m</th>\n",
       "      <th>le_acc_12m</th>\n",
       "    </tr>\n",
       "  </thead>\n",
       "  <tbody>\n",
       "    <tr>\n",
       "      <th>0</th>\n",
       "      <td>AUTOMOTIVE</td>\n",
       "      <td>1.591288</td>\n",
       "      <td>0.328825</td>\n",
       "      <td>1687.0</td>\n",
       "      <td>4.778000e+03</td>\n",
       "      <td>4</td>\n",
       "      <td>False</td>\n",
       "      <td>True</td>\n",
       "      <td>False</td>\n",
       "      <td>True</td>\n",
       "    </tr>\n",
       "    <tr>\n",
       "      <th>1</th>\n",
       "      <td>BABY CARE</td>\n",
       "      <td>0.174098</td>\n",
       "      <td>1.035528</td>\n",
       "      <td>1264.0</td>\n",
       "      <td>1.100000e+02</td>\n",
       "      <td>2</td>\n",
       "      <td>True</td>\n",
       "      <td>False</td>\n",
       "      <td>False</td>\n",
       "      <td>True</td>\n",
       "    </tr>\n",
       "    <tr>\n",
       "      <th>2</th>\n",
       "      <td>BEAUTY</td>\n",
       "      <td>1.141865</td>\n",
       "      <td>0.500264</td>\n",
       "      <td>1688.0</td>\n",
       "      <td>4.515000e+03</td>\n",
       "      <td>4</td>\n",
       "      <td>False</td>\n",
       "      <td>True</td>\n",
       "      <td>False</td>\n",
       "      <td>True</td>\n",
       "    </tr>\n",
       "    <tr>\n",
       "      <th>3</th>\n",
       "      <td>BEVERAGES</td>\n",
       "      <td>0.703743</td>\n",
       "      <td>0.489593</td>\n",
       "      <td>1688.0</td>\n",
       "      <td>2.232985e+06</td>\n",
       "      <td>3</td>\n",
       "      <td>False</td>\n",
       "      <td>True</td>\n",
       "      <td>True</td>\n",
       "      <td>False</td>\n",
       "    </tr>\n",
       "    <tr>\n",
       "      <th>4</th>\n",
       "      <td>BOOKS</td>\n",
       "      <td>0.305768</td>\n",
       "      <td>1.139918</td>\n",
       "      <td>310.0</td>\n",
       "      <td>6.000000e+00</td>\n",
       "      <td>2</td>\n",
       "      <td>True</td>\n",
       "      <td>False</td>\n",
       "      <td>False</td>\n",
       "      <td>True</td>\n",
       "    </tr>\n",
       "    <tr>\n",
       "      <th>5</th>\n",
       "      <td>BREAD/BAKERY</td>\n",
       "      <td>1.092981</td>\n",
       "      <td>0.260016</td>\n",
       "      <td>1688.0</td>\n",
       "      <td>3.510338e+05</td>\n",
       "      <td>3</td>\n",
       "      <td>False</td>\n",
       "      <td>True</td>\n",
       "      <td>True</td>\n",
       "      <td>False</td>\n",
       "    </tr>\n",
       "    <tr>\n",
       "      <th>6</th>\n",
       "      <td>CELEBRATION</td>\n",
       "      <td>0.358858</td>\n",
       "      <td>0.650920</td>\n",
       "      <td>1323.0</td>\n",
       "      <td>8.369000e+03</td>\n",
       "      <td>2</td>\n",
       "      <td>True</td>\n",
       "      <td>False</td>\n",
       "      <td>False</td>\n",
       "      <td>True</td>\n",
       "    </tr>\n",
       "    <tr>\n",
       "      <th>7</th>\n",
       "      <td>CLEANING</td>\n",
       "      <td>1.216950</td>\n",
       "      <td>0.262718</td>\n",
       "      <td>1688.0</td>\n",
       "      <td>7.133300e+05</td>\n",
       "      <td>3</td>\n",
       "      <td>False</td>\n",
       "      <td>True</td>\n",
       "      <td>True</td>\n",
       "      <td>False</td>\n",
       "    </tr>\n",
       "    <tr>\n",
       "      <th>8</th>\n",
       "      <td>DAIRY</td>\n",
       "      <td>0.844186</td>\n",
       "      <td>0.358100</td>\n",
       "      <td>1688.0</td>\n",
       "      <td>5.362420e+05</td>\n",
       "      <td>3</td>\n",
       "      <td>False</td>\n",
       "      <td>True</td>\n",
       "      <td>True</td>\n",
       "      <td>False</td>\n",
       "    </tr>\n",
       "    <tr>\n",
       "      <th>9</th>\n",
       "      <td>DELI</td>\n",
       "      <td>1.185155</td>\n",
       "      <td>0.291274</td>\n",
       "      <td>1688.0</td>\n",
       "      <td>1.955421e+05</td>\n",
       "      <td>3</td>\n",
       "      <td>False</td>\n",
       "      <td>True</td>\n",
       "      <td>True</td>\n",
       "      <td>False</td>\n",
       "    </tr>\n",
       "    <tr>\n",
       "      <th>10</th>\n",
       "      <td>EGGS</td>\n",
       "      <td>1.441059</td>\n",
       "      <td>0.275749</td>\n",
       "      <td>1688.0</td>\n",
       "      <td>1.278280e+05</td>\n",
       "      <td>4</td>\n",
       "      <td>False</td>\n",
       "      <td>True</td>\n",
       "      <td>False</td>\n",
       "      <td>True</td>\n",
       "    </tr>\n",
       "    <tr>\n",
       "      <th>11</th>\n",
       "      <td>FROZEN FOODS</td>\n",
       "      <td>0.434478</td>\n",
       "      <td>1.235243</td>\n",
       "      <td>1688.0</td>\n",
       "      <td>8.526940e+04</td>\n",
       "      <td>2</td>\n",
       "      <td>True</td>\n",
       "      <td>False</td>\n",
       "      <td>False</td>\n",
       "      <td>True</td>\n",
       "    </tr>\n",
       "    <tr>\n",
       "      <th>12</th>\n",
       "      <td>GROCERY I</td>\n",
       "      <td>1.120258</td>\n",
       "      <td>0.303353</td>\n",
       "      <td>1688.0</td>\n",
       "      <td>2.899453e+06</td>\n",
       "      <td>3</td>\n",
       "      <td>False</td>\n",
       "      <td>True</td>\n",
       "      <td>True</td>\n",
       "      <td>False</td>\n",
       "    </tr>\n",
       "    <tr>\n",
       "      <th>13</th>\n",
       "      <td>GROCERY II</td>\n",
       "      <td>1.228205</td>\n",
       "      <td>0.369031</td>\n",
       "      <td>1688.0</td>\n",
       "      <td>1.793800e+04</td>\n",
       "      <td>4</td>\n",
       "      <td>False</td>\n",
       "      <td>True</td>\n",
       "      <td>False</td>\n",
       "      <td>True</td>\n",
       "    </tr>\n",
       "    <tr>\n",
       "      <th>14</th>\n",
       "      <td>HARDWARE</td>\n",
       "      <td>1.802235</td>\n",
       "      <td>0.325675</td>\n",
       "      <td>1687.0</td>\n",
       "      <td>9.570000e+02</td>\n",
       "      <td>4</td>\n",
       "      <td>False</td>\n",
       "      <td>True</td>\n",
       "      <td>False</td>\n",
       "      <td>True</td>\n",
       "    </tr>\n",
       "    <tr>\n",
       "      <th>15</th>\n",
       "      <td>HOME AND KITCHEN I</td>\n",
       "      <td>0.843713</td>\n",
       "      <td>0.531041</td>\n",
       "      <td>1323.0</td>\n",
       "      <td>2.107000e+04</td>\n",
       "      <td>4</td>\n",
       "      <td>False</td>\n",
       "      <td>True</td>\n",
       "      <td>False</td>\n",
       "      <td>True</td>\n",
       "    </tr>\n",
       "    <tr>\n",
       "      <th>16</th>\n",
       "      <td>HOME AND KITCHEN II</td>\n",
       "      <td>0.690046</td>\n",
       "      <td>0.617197</td>\n",
       "      <td>1323.0</td>\n",
       "      <td>2.012800e+04</td>\n",
       "      <td>2</td>\n",
       "      <td>True</td>\n",
       "      <td>False</td>\n",
       "      <td>False</td>\n",
       "      <td>True</td>\n",
       "    </tr>\n",
       "    <tr>\n",
       "      <th>17</th>\n",
       "      <td>HOME APPLIANCES</td>\n",
       "      <td>1.379351</td>\n",
       "      <td>0.562388</td>\n",
       "      <td>1687.0</td>\n",
       "      <td>1.120000e+02</td>\n",
       "      <td>4</td>\n",
       "      <td>False</td>\n",
       "      <td>True</td>\n",
       "      <td>False</td>\n",
       "      <td>True</td>\n",
       "    </tr>\n",
       "    <tr>\n",
       "      <th>18</th>\n",
       "      <td>HOME CARE</td>\n",
       "      <td>0.371107</td>\n",
       "      <td>0.601843</td>\n",
       "      <td>1323.0</td>\n",
       "      <td>1.779230e+05</td>\n",
       "      <td>2</td>\n",
       "      <td>True</td>\n",
       "      <td>False</td>\n",
       "      <td>False</td>\n",
       "      <td>True</td>\n",
       "    </tr>\n",
       "    <tr>\n",
       "      <th>19</th>\n",
       "      <td>LADIESWEAR</td>\n",
       "      <td>0.423198</td>\n",
       "      <td>0.735474</td>\n",
       "      <td>1322.0</td>\n",
       "      <td>6.658000e+03</td>\n",
       "      <td>2</td>\n",
       "      <td>True</td>\n",
       "      <td>False</td>\n",
       "      <td>False</td>\n",
       "      <td>True</td>\n",
       "    </tr>\n",
       "    <tr>\n",
       "      <th>20</th>\n",
       "      <td>LAWN AND GARDEN</td>\n",
       "      <td>0.707915</td>\n",
       "      <td>1.043339</td>\n",
       "      <td>1688.0</td>\n",
       "      <td>9.980000e+03</td>\n",
       "      <td>2</td>\n",
       "      <td>True</td>\n",
       "      <td>False</td>\n",
       "      <td>False</td>\n",
       "      <td>True</td>\n",
       "    </tr>\n",
       "    <tr>\n",
       "      <th>21</th>\n",
       "      <td>LINGERIE</td>\n",
       "      <td>1.650671</td>\n",
       "      <td>0.299403</td>\n",
       "      <td>1688.0</td>\n",
       "      <td>5.134000e+03</td>\n",
       "      <td>4</td>\n",
       "      <td>False</td>\n",
       "      <td>True</td>\n",
       "      <td>False</td>\n",
       "      <td>True</td>\n",
       "    </tr>\n",
       "    <tr>\n",
       "      <th>22</th>\n",
       "      <td>LIQUOR,WINE,BEER</td>\n",
       "      <td>0.784484</td>\n",
       "      <td>0.805703</td>\n",
       "      <td>1688.0</td>\n",
       "      <td>6.837300e+04</td>\n",
       "      <td>2</td>\n",
       "      <td>True</td>\n",
       "      <td>False</td>\n",
       "      <td>False</td>\n",
       "      <td>True</td>\n",
       "    </tr>\n",
       "    <tr>\n",
       "      <th>23</th>\n",
       "      <td>MAGAZINES</td>\n",
       "      <td>0.269774</td>\n",
       "      <td>0.888011</td>\n",
       "      <td>1323.0</td>\n",
       "      <td>5.212000e+03</td>\n",
       "      <td>2</td>\n",
       "      <td>True</td>\n",
       "      <td>False</td>\n",
       "      <td>False</td>\n",
       "      <td>True</td>\n",
       "    </tr>\n",
       "    <tr>\n",
       "      <th>24</th>\n",
       "      <td>MEATS</td>\n",
       "      <td>1.454602</td>\n",
       "      <td>0.234452</td>\n",
       "      <td>1688.0</td>\n",
       "      <td>2.413068e+05</td>\n",
       "      <td>3</td>\n",
       "      <td>False</td>\n",
       "      <td>True</td>\n",
       "      <td>True</td>\n",
       "      <td>False</td>\n",
       "    </tr>\n",
       "    <tr>\n",
       "      <th>25</th>\n",
       "      <td>PERSONAL CARE</td>\n",
       "      <td>1.111751</td>\n",
       "      <td>0.366965</td>\n",
       "      <td>1688.0</td>\n",
       "      <td>1.984360e+05</td>\n",
       "      <td>3</td>\n",
       "      <td>False</td>\n",
       "      <td>True</td>\n",
       "      <td>True</td>\n",
       "      <td>False</td>\n",
       "    </tr>\n",
       "    <tr>\n",
       "      <th>26</th>\n",
       "      <td>PET SUPPLIES</td>\n",
       "      <td>0.339827</td>\n",
       "      <td>0.678997</td>\n",
       "      <td>1323.0</td>\n",
       "      <td>5.533000e+03</td>\n",
       "      <td>2</td>\n",
       "      <td>True</td>\n",
       "      <td>False</td>\n",
       "      <td>False</td>\n",
       "      <td>True</td>\n",
       "    </tr>\n",
       "    <tr>\n",
       "      <th>27</th>\n",
       "      <td>PLAYERS AND ELECTRONICS</td>\n",
       "      <td>0.360078</td>\n",
       "      <td>0.676730</td>\n",
       "      <td>1323.0</td>\n",
       "      <td>7.712000e+03</td>\n",
       "      <td>2</td>\n",
       "      <td>True</td>\n",
       "      <td>False</td>\n",
       "      <td>False</td>\n",
       "      <td>True</td>\n",
       "    </tr>\n",
       "    <tr>\n",
       "      <th>28</th>\n",
       "      <td>POULTRY</td>\n",
       "      <td>1.205596</td>\n",
       "      <td>0.320866</td>\n",
       "      <td>1688.0</td>\n",
       "      <td>2.445957e+05</td>\n",
       "      <td>3</td>\n",
       "      <td>False</td>\n",
       "      <td>True</td>\n",
       "      <td>True</td>\n",
       "      <td>False</td>\n",
       "    </tr>\n",
       "    <tr>\n",
       "      <th>29</th>\n",
       "      <td>PREPARED FOODS</td>\n",
       "      <td>1.285642</td>\n",
       "      <td>0.210701</td>\n",
       "      <td>1688.0</td>\n",
       "      <td>5.759566e+04</td>\n",
       "      <td>4</td>\n",
       "      <td>False</td>\n",
       "      <td>True</td>\n",
       "      <td>False</td>\n",
       "      <td>True</td>\n",
       "    </tr>\n",
       "    <tr>\n",
       "      <th>30</th>\n",
       "      <td>PRODUCE</td>\n",
       "      <td>0.131915</td>\n",
       "      <td>0.802313</td>\n",
       "      <td>1614.0</td>\n",
       "      <td>1.449283e+06</td>\n",
       "      <td>1</td>\n",
       "      <td>True</td>\n",
       "      <td>False</td>\n",
       "      <td>True</td>\n",
       "      <td>False</td>\n",
       "    </tr>\n",
       "    <tr>\n",
       "      <th>31</th>\n",
       "      <td>SCHOOL AND OFFICE SUPPLIES</td>\n",
       "      <td>0.166505</td>\n",
       "      <td>2.329592</td>\n",
       "      <td>1322.0</td>\n",
       "      <td>4.159800e+04</td>\n",
       "      <td>2</td>\n",
       "      <td>True</td>\n",
       "      <td>False</td>\n",
       "      <td>False</td>\n",
       "      <td>True</td>\n",
       "    </tr>\n",
       "    <tr>\n",
       "      <th>32</th>\n",
       "      <td>SEAFOOD</td>\n",
       "      <td>1.651594</td>\n",
       "      <td>0.254267</td>\n",
       "      <td>1687.0</td>\n",
       "      <td>1.300828e+04</td>\n",
       "      <td>4</td>\n",
       "      <td>False</td>\n",
       "      <td>True</td>\n",
       "      <td>False</td>\n",
       "      <td>True</td>\n",
       "    </tr>\n",
       "  </tbody>\n",
       "</table>\n",
       "</div>"
      ],
      "text/plain": [
       "                        family  sample_entropy        cv  len_ts  \\\n",
       "0                   AUTOMOTIVE        1.591288  0.328825  1687.0   \n",
       "1                    BABY CARE        0.174098  1.035528  1264.0   \n",
       "2                       BEAUTY        1.141865  0.500264  1688.0   \n",
       "3                    BEVERAGES        0.703743  0.489593  1688.0   \n",
       "4                        BOOKS        0.305768  1.139918   310.0   \n",
       "5                 BREAD/BAKERY        1.092981  0.260016  1688.0   \n",
       "6                  CELEBRATION        0.358858  0.650920  1323.0   \n",
       "7                     CLEANING        1.216950  0.262718  1688.0   \n",
       "8                        DAIRY        0.844186  0.358100  1688.0   \n",
       "9                         DELI        1.185155  0.291274  1688.0   \n",
       "10                        EGGS        1.441059  0.275749  1688.0   \n",
       "11                FROZEN FOODS        0.434478  1.235243  1688.0   \n",
       "12                   GROCERY I        1.120258  0.303353  1688.0   \n",
       "13                  GROCERY II        1.228205  0.369031  1688.0   \n",
       "14                    HARDWARE        1.802235  0.325675  1687.0   \n",
       "15          HOME AND KITCHEN I        0.843713  0.531041  1323.0   \n",
       "16         HOME AND KITCHEN II        0.690046  0.617197  1323.0   \n",
       "17             HOME APPLIANCES        1.379351  0.562388  1687.0   \n",
       "18                   HOME CARE        0.371107  0.601843  1323.0   \n",
       "19                  LADIESWEAR        0.423198  0.735474  1322.0   \n",
       "20             LAWN AND GARDEN        0.707915  1.043339  1688.0   \n",
       "21                    LINGERIE        1.650671  0.299403  1688.0   \n",
       "22            LIQUOR,WINE,BEER        0.784484  0.805703  1688.0   \n",
       "23                   MAGAZINES        0.269774  0.888011  1323.0   \n",
       "24                       MEATS        1.454602  0.234452  1688.0   \n",
       "25               PERSONAL CARE        1.111751  0.366965  1688.0   \n",
       "26                PET SUPPLIES        0.339827  0.678997  1323.0   \n",
       "27     PLAYERS AND ELECTRONICS        0.360078  0.676730  1323.0   \n",
       "28                     POULTRY        1.205596  0.320866  1688.0   \n",
       "29              PREPARED FOODS        1.285642  0.210701  1688.0   \n",
       "30                     PRODUCE        0.131915  0.802313  1614.0   \n",
       "31  SCHOOL AND OFFICE SUPPLIES        0.166505  2.329592  1322.0   \n",
       "32                     SEAFOOD        1.651594  0.254267  1687.0   \n",
       "\n",
       "         acc_12m  group  gt_cv  le_cv  gt_acc_12m  le_acc_12m  \n",
       "0   4.778000e+03      4  False   True       False        True  \n",
       "1   1.100000e+02      2   True  False       False        True  \n",
       "2   4.515000e+03      4  False   True       False        True  \n",
       "3   2.232985e+06      3  False   True        True       False  \n",
       "4   6.000000e+00      2   True  False       False        True  \n",
       "5   3.510338e+05      3  False   True        True       False  \n",
       "6   8.369000e+03      2   True  False       False        True  \n",
       "7   7.133300e+05      3  False   True        True       False  \n",
       "8   5.362420e+05      3  False   True        True       False  \n",
       "9   1.955421e+05      3  False   True        True       False  \n",
       "10  1.278280e+05      4  False   True       False        True  \n",
       "11  8.526940e+04      2   True  False       False        True  \n",
       "12  2.899453e+06      3  False   True        True       False  \n",
       "13  1.793800e+04      4  False   True       False        True  \n",
       "14  9.570000e+02      4  False   True       False        True  \n",
       "15  2.107000e+04      4  False   True       False        True  \n",
       "16  2.012800e+04      2   True  False       False        True  \n",
       "17  1.120000e+02      4  False   True       False        True  \n",
       "18  1.779230e+05      2   True  False       False        True  \n",
       "19  6.658000e+03      2   True  False       False        True  \n",
       "20  9.980000e+03      2   True  False       False        True  \n",
       "21  5.134000e+03      4  False   True       False        True  \n",
       "22  6.837300e+04      2   True  False       False        True  \n",
       "23  5.212000e+03      2   True  False       False        True  \n",
       "24  2.413068e+05      3  False   True        True       False  \n",
       "25  1.984360e+05      3  False   True        True       False  \n",
       "26  5.533000e+03      2   True  False       False        True  \n",
       "27  7.712000e+03      2   True  False       False        True  \n",
       "28  2.445957e+05      3  False   True        True       False  \n",
       "29  5.759566e+04      4  False   True       False        True  \n",
       "30  1.449283e+06      1   True  False        True       False  \n",
       "31  4.159800e+04      2   True  False       False        True  \n",
       "32  1.300828e+04      4  False   True       False        True  "
      ]
     },
     "execution_count": 51,
     "metadata": {},
     "output_type": "execute_result"
    }
   ],
   "source": [
    "seg_groups = time_series_segmentation(seg_metrics, group_divisions)\n",
    "seg_groups[\"gt_cv\"] = seg_groups.cv > seg_groups.cv.mean()\n",
    "seg_groups[\"le_cv\"] = seg_groups.cv <= seg_groups.cv.mean()\n",
    "seg_groups[\"gt_acc_12m\"] = seg_groups.acc_12m > seg_groups.acc_12m.quantile(0.7)\n",
    "seg_groups[\"le_acc_12m\"] = seg_groups.acc_12m <= seg_groups.acc_12m.quantile(0.7)\n",
    "seg_groups"
   ]
  },
  {
   "cell_type": "code",
   "execution_count": 5,
   "id": "2c58b602-3b35-4327-93a3-d2bf45c7366a",
   "metadata": {},
   "outputs": [],
   "source": [
    "import pandas as pd\n",
    "import numpy as np"
   ]
  },
  {
   "cell_type": "code",
   "execution_count": 6,
   "id": "301bfa6e-fd3c-49ac-8f8c-ba2f13e41dbe",
   "metadata": {},
   "outputs": [
    {
     "data": {
      "text/html": [
       "<div>\n",
       "<style scoped>\n",
       "    .dataframe tbody tr th:only-of-type {\n",
       "        vertical-align: middle;\n",
       "    }\n",
       "\n",
       "    .dataframe tbody tr th {\n",
       "        vertical-align: top;\n",
       "    }\n",
       "\n",
       "    .dataframe thead th {\n",
       "        text-align: right;\n",
       "    }\n",
       "</style>\n",
       "<table border=\"1\" class=\"dataframe\">\n",
       "  <thead>\n",
       "    <tr style=\"text-align: right;\">\n",
       "      <th></th>\n",
       "      <th>family</th>\n",
       "      <th>date</th>\n",
       "      <th>sales</th>\n",
       "    </tr>\n",
       "  </thead>\n",
       "  <tbody>\n",
       "    <tr>\n",
       "      <th>0</th>\n",
       "      <td>AUTOMOTIVE</td>\n",
       "      <td>2013-01-01</td>\n",
       "      <td>0.000000</td>\n",
       "    </tr>\n",
       "    <tr>\n",
       "      <th>1</th>\n",
       "      <td>AUTOMOTIVE</td>\n",
       "      <td>2013-01-02</td>\n",
       "      <td>255.000000</td>\n",
       "    </tr>\n",
       "    <tr>\n",
       "      <th>2</th>\n",
       "      <td>AUTOMOTIVE</td>\n",
       "      <td>2013-01-03</td>\n",
       "      <td>161.000000</td>\n",
       "    </tr>\n",
       "    <tr>\n",
       "      <th>3</th>\n",
       "      <td>AUTOMOTIVE</td>\n",
       "      <td>2013-01-04</td>\n",
       "      <td>169.000000</td>\n",
       "    </tr>\n",
       "    <tr>\n",
       "      <th>4</th>\n",
       "      <td>AUTOMOTIVE</td>\n",
       "      <td>2013-01-05</td>\n",
       "      <td>342.000000</td>\n",
       "    </tr>\n",
       "    <tr>\n",
       "      <th>...</th>\n",
       "      <td>...</td>\n",
       "      <td>...</td>\n",
       "      <td>...</td>\n",
       "    </tr>\n",
       "    <tr>\n",
       "      <th>55699</th>\n",
       "      <td>SEAFOOD</td>\n",
       "      <td>2017-08-11</td>\n",
       "      <td>1272.615997</td>\n",
       "    </tr>\n",
       "    <tr>\n",
       "      <th>55700</th>\n",
       "      <td>SEAFOOD</td>\n",
       "      <td>2017-08-12</td>\n",
       "      <td>1028.030006</td>\n",
       "    </tr>\n",
       "    <tr>\n",
       "      <th>55701</th>\n",
       "      <td>SEAFOOD</td>\n",
       "      <td>2017-08-13</td>\n",
       "      <td>1118.047000</td>\n",
       "    </tr>\n",
       "    <tr>\n",
       "      <th>55702</th>\n",
       "      <td>SEAFOOD</td>\n",
       "      <td>2017-08-14</td>\n",
       "      <td>970.679999</td>\n",
       "    </tr>\n",
       "    <tr>\n",
       "      <th>55703</th>\n",
       "      <td>SEAFOOD</td>\n",
       "      <td>2017-08-15</td>\n",
       "      <td>970.177005</td>\n",
       "    </tr>\n",
       "  </tbody>\n",
       "</table>\n",
       "<p>55704 rows × 3 columns</p>\n",
       "</div>"
      ],
      "text/plain": [
       "           family       date        sales\n",
       "0      AUTOMOTIVE 2013-01-01     0.000000\n",
       "1      AUTOMOTIVE 2013-01-02   255.000000\n",
       "2      AUTOMOTIVE 2013-01-03   161.000000\n",
       "3      AUTOMOTIVE 2013-01-04   169.000000\n",
       "4      AUTOMOTIVE 2013-01-05   342.000000\n",
       "...           ...        ...          ...\n",
       "55699     SEAFOOD 2017-08-11  1272.615997\n",
       "55700     SEAFOOD 2017-08-12  1028.030006\n",
       "55701     SEAFOOD 2017-08-13  1118.047000\n",
       "55702     SEAFOOD 2017-08-14   970.679999\n",
       "55703     SEAFOOD 2017-08-15   970.177005\n",
       "\n",
       "[55704 rows x 3 columns]"
      ]
     },
     "execution_count": 6,
     "metadata": {},
     "output_type": "execute_result"
    }
   ],
   "source": [
    "prepared_data"
   ]
  },
  {
   "cell_type": "code",
   "execution_count": 8,
   "id": "93463749-6234-499a-b3e4-a6d1e8805a1c",
   "metadata": {},
   "outputs": [
    {
     "data": {
      "text/plain": [
       "184970.6468016"
      ]
     },
     "execution_count": 8,
     "metadata": {},
     "output_type": "execute_result"
    }
   ],
   "source": [
    "seg_metrics.acc_12m.quantile(0.7)"
   ]
  },
  {
   "cell_type": "code",
   "execution_count": 37,
   "id": "15fde105-0938-49e5-87d8-7c5236a30bb1",
   "metadata": {},
   "outputs": [],
   "source": [
    "from time_series_kedro.extras.utils import rolling_fill\n",
    "def build_series(serie_data, serie_target, date_col):\n",
    "    serie = serie_data.set_index(date_col)[[serie_target]]\n",
    "    full_serie = serie.reindex(pd.date_range(serie.index.min(), serie.index.max()))\n",
    "    full_serie[serie_target] = rolling_fill(full_serie[serie_target], n=2)\n",
    "    return full_serie\n",
    "    \n",
    "    "
   ]
  },
  {
   "cell_type": "code",
   "execution_count": 39,
   "id": "d51f65c3-b86c-457c-b570-16167265285d",
   "metadata": {},
   "outputs": [
    {
     "data": {
      "text/plain": [
       "sales    0\n",
       "dtype: int64"
      ]
     },
     "execution_count": 39,
     "metadata": {},
     "output_type": "execute_result"
    }
   ],
   "source": [
    "serie_target = \"sales\"\n",
    "date_col = \"date\"\n",
    "prepared_data.groupby(\"family\").apply(lambda serie_data: build_series(serie_data, serie_target, date_col))"
   ]
  },
  {
   "cell_type": "code",
   "execution_count": 12,
   "id": "6859327c-94d6-4ec8-9186-deb287b28c46",
   "metadata": {},
   "outputs": [
    {
     "data": {
      "text/html": [
       "<div>\n",
       "<style scoped>\n",
       "    .dataframe tbody tr th:only-of-type {\n",
       "        vertical-align: middle;\n",
       "    }\n",
       "\n",
       "    .dataframe tbody tr th {\n",
       "        vertical-align: top;\n",
       "    }\n",
       "\n",
       "    .dataframe thead th {\n",
       "        text-align: right;\n",
       "    }\n",
       "</style>\n",
       "<table border=\"1\" class=\"dataframe\">\n",
       "  <thead>\n",
       "    <tr style=\"text-align: right;\">\n",
       "      <th></th>\n",
       "      <th>family</th>\n",
       "      <th>sales</th>\n",
       "    </tr>\n",
       "    <tr>\n",
       "      <th>date</th>\n",
       "      <th></th>\n",
       "      <th></th>\n",
       "    </tr>\n",
       "  </thead>\n",
       "  <tbody>\n",
       "    <tr>\n",
       "      <th>2013-01-01</th>\n",
       "      <td>AUTOMOTIVE</td>\n",
       "      <td>0.0</td>\n",
       "    </tr>\n",
       "    <tr>\n",
       "      <th>2013-01-02</th>\n",
       "      <td>AUTOMOTIVE</td>\n",
       "      <td>255.0</td>\n",
       "    </tr>\n",
       "    <tr>\n",
       "      <th>2013-01-03</th>\n",
       "      <td>AUTOMOTIVE</td>\n",
       "      <td>161.0</td>\n",
       "    </tr>\n",
       "    <tr>\n",
       "      <th>2013-01-04</th>\n",
       "      <td>AUTOMOTIVE</td>\n",
       "      <td>169.0</td>\n",
       "    </tr>\n",
       "    <tr>\n",
       "      <th>2013-01-05</th>\n",
       "      <td>AUTOMOTIVE</td>\n",
       "      <td>342.0</td>\n",
       "    </tr>\n",
       "    <tr>\n",
       "      <th>...</th>\n",
       "      <td>...</td>\n",
       "      <td>...</td>\n",
       "    </tr>\n",
       "    <tr>\n",
       "      <th>2017-08-11</th>\n",
       "      <td>AUTOMOTIVE</td>\n",
       "      <td>441.0</td>\n",
       "    </tr>\n",
       "    <tr>\n",
       "      <th>2017-08-12</th>\n",
       "      <td>AUTOMOTIVE</td>\n",
       "      <td>403.0</td>\n",
       "    </tr>\n",
       "    <tr>\n",
       "      <th>2017-08-13</th>\n",
       "      <td>AUTOMOTIVE</td>\n",
       "      <td>481.0</td>\n",
       "    </tr>\n",
       "    <tr>\n",
       "      <th>2017-08-14</th>\n",
       "      <td>AUTOMOTIVE</td>\n",
       "      <td>292.0</td>\n",
       "    </tr>\n",
       "    <tr>\n",
       "      <th>2017-08-15</th>\n",
       "      <td>AUTOMOTIVE</td>\n",
       "      <td>337.0</td>\n",
       "    </tr>\n",
       "  </tbody>\n",
       "</table>\n",
       "<p>1684 rows × 2 columns</p>\n",
       "</div>"
      ],
      "text/plain": [
       "                family  sales\n",
       "date                         \n",
       "2013-01-01  AUTOMOTIVE    0.0\n",
       "2013-01-02  AUTOMOTIVE  255.0\n",
       "2013-01-03  AUTOMOTIVE  161.0\n",
       "2013-01-04  AUTOMOTIVE  169.0\n",
       "2013-01-05  AUTOMOTIVE  342.0\n",
       "...                ...    ...\n",
       "2017-08-11  AUTOMOTIVE  441.0\n",
       "2017-08-12  AUTOMOTIVE  403.0\n",
       "2017-08-13  AUTOMOTIVE  481.0\n",
       "2017-08-14  AUTOMOTIVE  292.0\n",
       "2017-08-15  AUTOMOTIVE  337.0\n",
       "\n",
       "[1684 rows x 2 columns]"
      ]
     },
     "execution_count": 12,
     "metadata": {},
     "output_type": "execute_result"
    }
   ],
   "source": [
    "serie_data = prepared_data[prepared_data.family==\"AUTOMOTIVE\"].set_index(\"date\")\n",
    "serie_data"
   ]
  },
  {
   "cell_type": "code",
   "execution_count": 18,
   "id": "3ca16fdd-8d12-41d9-a230-60a737c19476",
   "metadata": {},
   "outputs": [
    {
     "data": {
      "text/html": [
       "<div>\n",
       "<style scoped>\n",
       "    .dataframe tbody tr th:only-of-type {\n",
       "        vertical-align: middle;\n",
       "    }\n",
       "\n",
       "    .dataframe tbody tr th {\n",
       "        vertical-align: top;\n",
       "    }\n",
       "\n",
       "    .dataframe thead th {\n",
       "        text-align: right;\n",
       "    }\n",
       "</style>\n",
       "<table border=\"1\" class=\"dataframe\">\n",
       "  <thead>\n",
       "    <tr style=\"text-align: right;\">\n",
       "      <th></th>\n",
       "      <th>v</th>\n",
       "    </tr>\n",
       "  </thead>\n",
       "  <tbody>\n",
       "    <tr>\n",
       "      <th>1</th>\n",
       "      <td>1</td>\n",
       "    </tr>\n",
       "    <tr>\n",
       "      <th>2</th>\n",
       "      <td>2</td>\n",
       "    </tr>\n",
       "    <tr>\n",
       "      <th>3</th>\n",
       "      <td>2</td>\n",
       "    </tr>\n",
       "    <tr>\n",
       "      <th>4</th>\n",
       "      <td>3</td>\n",
       "    </tr>\n",
       "    <tr>\n",
       "      <th>5</th>\n",
       "      <td>4</td>\n",
       "    </tr>\n",
       "    <tr>\n",
       "      <th>6</th>\n",
       "      <td>5</td>\n",
       "    </tr>\n",
       "    <tr>\n",
       "      <th>7</th>\n",
       "      <td>5</td>\n",
       "    </tr>\n",
       "  </tbody>\n",
       "</table>\n",
       "</div>"
      ],
      "text/plain": [
       "   v\n",
       "1  1\n",
       "2  2\n",
       "3  2\n",
       "4  3\n",
       "5  4\n",
       "6  5\n",
       "7  5"
      ]
     },
     "execution_count": 18,
     "metadata": {},
     "output_type": "execute_result"
    }
   ],
   "source": [
    "x = pd.DataFrame(data={\"v\":[1, 2, 3, 4, 5]}, index=[1, 3, 4, 5,7])\n",
    "x.reindex([1, 2, 3, 4, 5, 6, 7])"
   ]
  },
  {
   "cell_type": "code",
   "execution_count": 22,
   "id": "7f8fee2c-6ea5-4e2e-844d-88a0947b4128",
   "metadata": {},
   "outputs": [],
   "source": [
    "serie_data = prepared_data[prepared_data.family==\"AUTOMOTIVE\"].set_index(\"date\")\n",
    "serie_data = serie_data.reindex(pd.date_range(serie_data.index.min(), serie_data.index.max()))\n",
    "serie_data[serie_id] = serie_data[serie_id].fillna(\"ffill\")\n"
   ]
  },
  {
   "cell_type": "code",
   "execution_count": 6,
   "id": "ce6ed96e-b204-449b-ae28-cc518680bb7f",
   "metadata": {},
   "outputs": [
    {
     "data": {
      "text/plain": [
       "id\n",
       "0         2013-01-01\n",
       "1         2013-01-01\n",
       "2         2013-01-01\n",
       "3         2013-01-01\n",
       "4         2013-01-01\n",
       "             ...    \n",
       "3000883   2017-08-15\n",
       "3000884   2017-08-15\n",
       "3000885   2017-08-15\n",
       "3000886   2017-08-15\n",
       "3000887   2017-08-15\n",
       "Name: date, Length: 3000888, dtype: datetime64[ns]"
      ]
     },
     "execution_count": 6,
     "metadata": {},
     "output_type": "execute_result"
    }
   ],
   "source": [
    "pd.to_datetime(train.date)"
   ]
  },
  {
   "cell_type": "code",
   "execution_count": 5,
   "id": "b0a22519-081c-4979-bf03-fb806d3f9c50",
   "metadata": {},
   "outputs": [
    {
     "data": {
      "text/plain": [
       "family\n",
       "AUTOMOTIVE                    1684\n",
       "BABY CARE                     1684\n",
       "BEAUTY                        1684\n",
       "BEVERAGES                     1684\n",
       "BOOKS                         1684\n",
       "BREAD/BAKERY                  1684\n",
       "CELEBRATION                   1684\n",
       "CLEANING                      1684\n",
       "DAIRY                         1684\n",
       "DELI                          1684\n",
       "EGGS                          1684\n",
       "FROZEN FOODS                  1684\n",
       "GROCERY I                     1684\n",
       "GROCERY II                    1684\n",
       "HARDWARE                      1684\n",
       "HOME AND KITCHEN I            1684\n",
       "HOME AND KITCHEN II           1684\n",
       "HOME APPLIANCES               1684\n",
       "HOME CARE                     1684\n",
       "LADIESWEAR                    1684\n",
       "LAWN AND GARDEN               1684\n",
       "LINGERIE                      1684\n",
       "LIQUOR,WINE,BEER              1684\n",
       "MAGAZINES                     1684\n",
       "MEATS                         1684\n",
       "PERSONAL CARE                 1684\n",
       "PET SUPPLIES                  1684\n",
       "PLAYERS AND ELECTRONICS       1684\n",
       "POULTRY                       1684\n",
       "PREPARED FOODS                1684\n",
       "PRODUCE                       1684\n",
       "SCHOOL AND OFFICE SUPPLIES    1684\n",
       "SEAFOOD                       1684\n",
       "Name: date, dtype: int64"
      ]
     },
     "execution_count": 5,
     "metadata": {},
     "output_type": "execute_result"
    }
   ],
   "source": [
    "train.groupby(\"family\").nunique().date"
   ]
  },
  {
   "cell_type": "code",
   "execution_count": null,
   "id": "26cce0ab-c01b-4e8a-b045-fb42433a4717",
   "metadata": {},
   "outputs": [],
   "source": []
  }
 ],
 "metadata": {
  "kernelspec": {
   "display_name": "time_series_kedro",
   "language": "python",
   "name": "python3"
  },
  "language_info": {
   "codemirror_mode": {
    "name": "ipython",
    "version": 3
   },
   "file_extension": ".py",
   "mimetype": "text/x-python",
   "name": "python",
   "nbconvert_exporter": "python",
   "pygments_lexer": "ipython3",
   "version": "3.8.10"
  }
 },
 "nbformat": 4,
 "nbformat_minor": 5
}
