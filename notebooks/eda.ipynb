{
 "cells": [
  {
   "cell_type": "code",
   "execution_count": 9,
   "id": "ba230eb7",
   "metadata": {},
   "outputs": [
    {
     "name": "stdout",
     "output_type": "stream",
     "text": [
      "2022-02-13 02:23:13,379 - kedro.framework.hooks.manager - INFO - Registered hooks from 1 installed plugin(s): kedro-mlflow-0.7.6\n",
      "2022-02-13 02:23:13,479 - kedro.framework.session.store - INFO - `read()` not implemented for `BaseSessionStore`. Assuming empty store.\n",
      "2022-02-13 02:23:13,572 - kedro.config.config - INFO - Config from path `/home/matheus/projects/time_series_kedro/conf/local` will override the following existing top-level config keys: fr_horizon, initial, n_jobs, sampling\n",
      "2022-02-13 02:23:13,574 - root - INFO - ** Kedro project time_series_kedro\n",
      "2022-02-13 02:23:13,575 - root - INFO - Defined global variable `context`, `session`, `catalog` and `pipelines`\n",
      "2022-02-13 02:23:13,593 - root - INFO - Registered line magic `run_viz`\n",
      "2022-02-13 02:23:13,594 - root - INFO - Registered line magic `reload_kedro_mlflow`\n",
      "2022-02-13 02:23:13,595 - kedro.io.data_catalog - INFO - Loading data from `train_data` (CSVDataSet)...\n"
     ]
    },
    {
     "name": "stderr",
     "output_type": "stream",
     "text": [
      "/home/matheus/.local/lib/python3.8/site-packages/kedro/io/core.py:151: DeprecatedWarning: __init__ is deprecated as of 0.7.3 and will be removed in 0.8.0. Deprecated in favor of 'MlflowMetricDataSet' (for a single metric) or 'MlflowMetricHistoryDataSet '(for the metric evolution over time)\n",
      "  data_set = class_obj(**config)  # type: ignore\n",
      "/home/matheus/.local/lib/python3.8/site-packages/kedro_mlflow/framework/hooks/pipeline_hook.py:53: DeprecatedWarning: __init__ is deprecated as of 0.7.3 and will be removed in 0.8.0. Deprecated in favor of 'MlflowMetricDataSet' (for a single metric) or 'MlflowMetricHistoryDataSet '(for the metric evolution over time)\n",
      "  catalog._data_sets[name] = MlflowMetricsDataSet(prefix=name)\n"
     ]
    },
    {
     "name": "stdout",
     "output_type": "stream",
     "text": [
      "2022-02-13 02:23:14,779 - kedro.io.data_catalog - INFO - Loading data from `eval_data` (CSVDataSet)...\n",
      "2022-02-13 02:23:14,801 - kedro.io.data_catalog - INFO - Loading data from `prepared_data` (CSVDataSet)...\n",
      "2022-02-13 02:23:15,924 - kedro.io.data_catalog - INFO - Loading data from `test_data` (CSVDataSet)...\n",
      "2022-02-13 02:23:15,970 - kedro.io.data_catalog - INFO - Loading data from `seg_metrics` (CSVDataSet)...\n"
     ]
    }
   ],
   "source": [
    "%reload_kedro\n",
    "train = catalog.load(\"train_data\")\n",
    "eval_data = catalog.load(\"eval_data\")\n",
    "prepared_data = catalog.load(\"prepared_data\")\n",
    "test = catalog.load(\"test_data\")\n",
    "seg_metrics = catalog.load(\"seg_metrics\")"
   ]
  },
  {
   "cell_type": "code",
   "execution_count": 11,
   "id": "3beab09e",
   "metadata": {},
   "outputs": [
    {
     "data": {
      "text/html": [
       "<div>\n",
       "<style scoped>\n",
       "    .dataframe tbody tr th:only-of-type {\n",
       "        vertical-align: middle;\n",
       "    }\n",
       "\n",
       "    .dataframe tbody tr th {\n",
       "        vertical-align: top;\n",
       "    }\n",
       "\n",
       "    .dataframe thead th {\n",
       "        text-align: right;\n",
       "    }\n",
       "</style>\n",
       "<table border=\"1\" class=\"dataframe\">\n",
       "  <thead>\n",
       "    <tr style=\"text-align: right;\">\n",
       "      <th></th>\n",
       "      <th>store_nbr</th>\n",
       "      <th>family</th>\n",
       "      <th>date</th>\n",
       "      <th>sales</th>\n",
       "      <th>dcoilwtico</th>\n",
       "      <th>group</th>\n",
       "    </tr>\n",
       "  </thead>\n",
       "  <tbody>\n",
       "    <tr>\n",
       "      <th>0</th>\n",
       "      <td>1</td>\n",
       "      <td>AUTOMOTIVE</td>\n",
       "      <td>2013-01-01</td>\n",
       "      <td>0.0</td>\n",
       "      <td>0.00</td>\n",
       "      <td>4</td>\n",
       "    </tr>\n",
       "    <tr>\n",
       "      <th>1</th>\n",
       "      <td>1</td>\n",
       "      <td>AUTOMOTIVE</td>\n",
       "      <td>2013-01-02</td>\n",
       "      <td>2.0</td>\n",
       "      <td>93.14</td>\n",
       "      <td>4</td>\n",
       "    </tr>\n",
       "    <tr>\n",
       "      <th>2</th>\n",
       "      <td>1</td>\n",
       "      <td>AUTOMOTIVE</td>\n",
       "      <td>2013-01-03</td>\n",
       "      <td>3.0</td>\n",
       "      <td>92.97</td>\n",
       "      <td>4</td>\n",
       "    </tr>\n",
       "    <tr>\n",
       "      <th>3</th>\n",
       "      <td>1</td>\n",
       "      <td>AUTOMOTIVE</td>\n",
       "      <td>2013-01-04</td>\n",
       "      <td>3.0</td>\n",
       "      <td>93.12</td>\n",
       "      <td>4</td>\n",
       "    </tr>\n",
       "    <tr>\n",
       "      <th>4</th>\n",
       "      <td>1</td>\n",
       "      <td>AUTOMOTIVE</td>\n",
       "      <td>2013-01-07</td>\n",
       "      <td>0.0</td>\n",
       "      <td>93.20</td>\n",
       "      <td>4</td>\n",
       "    </tr>\n",
       "    <tr>\n",
       "      <th>...</th>\n",
       "      <td>...</td>\n",
       "      <td>...</td>\n",
       "      <td>...</td>\n",
       "      <td>...</td>\n",
       "      <td>...</td>\n",
       "      <td>...</td>\n",
       "    </tr>\n",
       "    <tr>\n",
       "      <th>2120575</th>\n",
       "      <td>54</td>\n",
       "      <td>SEAFOOD</td>\n",
       "      <td>2017-07-18</td>\n",
       "      <td>6.0</td>\n",
       "      <td>46.40</td>\n",
       "      <td>2</td>\n",
       "    </tr>\n",
       "    <tr>\n",
       "      <th>2120576</th>\n",
       "      <td>54</td>\n",
       "      <td>SEAFOOD</td>\n",
       "      <td>2017-07-19</td>\n",
       "      <td>0.0</td>\n",
       "      <td>47.10</td>\n",
       "      <td>2</td>\n",
       "    </tr>\n",
       "    <tr>\n",
       "      <th>2120577</th>\n",
       "      <td>54</td>\n",
       "      <td>SEAFOOD</td>\n",
       "      <td>2017-07-20</td>\n",
       "      <td>3.0</td>\n",
       "      <td>46.73</td>\n",
       "      <td>2</td>\n",
       "    </tr>\n",
       "    <tr>\n",
       "      <th>2120578</th>\n",
       "      <td>54</td>\n",
       "      <td>SEAFOOD</td>\n",
       "      <td>2017-07-21</td>\n",
       "      <td>0.0</td>\n",
       "      <td>45.78</td>\n",
       "      <td>2</td>\n",
       "    </tr>\n",
       "    <tr>\n",
       "      <th>2120579</th>\n",
       "      <td>54</td>\n",
       "      <td>SEAFOOD</td>\n",
       "      <td>2017-07-24</td>\n",
       "      <td>1.0</td>\n",
       "      <td>46.21</td>\n",
       "      <td>2</td>\n",
       "    </tr>\n",
       "  </tbody>\n",
       "</table>\n",
       "<p>2120580 rows × 6 columns</p>\n",
       "</div>"
      ],
      "text/plain": [
       "         store_nbr      family       date  sales  dcoilwtico  group\n",
       "0                1  AUTOMOTIVE 2013-01-01    0.0        0.00      4\n",
       "1                1  AUTOMOTIVE 2013-01-02    2.0       93.14      4\n",
       "2                1  AUTOMOTIVE 2013-01-03    3.0       92.97      4\n",
       "3                1  AUTOMOTIVE 2013-01-04    3.0       93.12      4\n",
       "4                1  AUTOMOTIVE 2013-01-07    0.0       93.20      4\n",
       "...            ...         ...        ...    ...         ...    ...\n",
       "2120575         54     SEAFOOD 2017-07-18    6.0       46.40      2\n",
       "2120576         54     SEAFOOD 2017-07-19    0.0       47.10      2\n",
       "2120577         54     SEAFOOD 2017-07-20    3.0       46.73      2\n",
       "2120578         54     SEAFOOD 2017-07-21    0.0       45.78      2\n",
       "2120579         54     SEAFOOD 2017-07-24    1.0       46.21      2\n",
       "\n",
       "[2120580 rows x 6 columns]"
      ]
     },
     "execution_count": 11,
     "metadata": {},
     "output_type": "execute_result"
    }
   ],
   "source": [
    "train"
   ]
  },
  {
   "cell_type": "code",
   "execution_count": 7,
   "id": "5e1ea7a0",
   "metadata": {},
   "outputs": [
    {
     "name": "stdout",
     "output_type": "stream",
     "text": [
      "2022-02-13 02:01:10,492 - kedro.io.data_catalog - INFO - Loading data from `oil` (CSVDataSet)...\n"
     ]
    }
   ],
   "source": [
    "oil = catalog.load(\"oil\")"
   ]
  },
  {
   "cell_type": "code",
   "execution_count": 8,
   "id": "a0c2bb12",
   "metadata": {},
   "outputs": [
    {
     "data": {
      "text/html": [
       "<div>\n",
       "<style scoped>\n",
       "    .dataframe tbody tr th:only-of-type {\n",
       "        vertical-align: middle;\n",
       "    }\n",
       "\n",
       "    .dataframe tbody tr th {\n",
       "        vertical-align: top;\n",
       "    }\n",
       "\n",
       "    .dataframe thead th {\n",
       "        text-align: right;\n",
       "    }\n",
       "</style>\n",
       "<table border=\"1\" class=\"dataframe\">\n",
       "  <thead>\n",
       "    <tr style=\"text-align: right;\">\n",
       "      <th></th>\n",
       "      <th>store_nbr</th>\n",
       "      <th>family</th>\n",
       "      <th>date</th>\n",
       "      <th>sales</th>\n",
       "      <th>group</th>\n",
       "      <th>dcoilwtico</th>\n",
       "    </tr>\n",
       "  </thead>\n",
       "  <tbody>\n",
       "    <tr>\n",
       "      <th>0</th>\n",
       "      <td>1</td>\n",
       "      <td>AUTOMOTIVE</td>\n",
       "      <td>2013-01-01</td>\n",
       "      <td>0.000</td>\n",
       "      <td>4</td>\n",
       "      <td>NaN</td>\n",
       "    </tr>\n",
       "    <tr>\n",
       "      <th>1</th>\n",
       "      <td>1</td>\n",
       "      <td>BABY CARE</td>\n",
       "      <td>2013-01-01</td>\n",
       "      <td>0.000</td>\n",
       "      <td>0</td>\n",
       "      <td>NaN</td>\n",
       "    </tr>\n",
       "    <tr>\n",
       "      <th>2</th>\n",
       "      <td>1</td>\n",
       "      <td>BEAUTY</td>\n",
       "      <td>2013-01-01</td>\n",
       "      <td>0.000</td>\n",
       "      <td>4</td>\n",
       "      <td>NaN</td>\n",
       "    </tr>\n",
       "    <tr>\n",
       "      <th>3</th>\n",
       "      <td>1</td>\n",
       "      <td>BEVERAGES</td>\n",
       "      <td>2013-01-01</td>\n",
       "      <td>0.000</td>\n",
       "      <td>3</td>\n",
       "      <td>NaN</td>\n",
       "    </tr>\n",
       "    <tr>\n",
       "      <th>4</th>\n",
       "      <td>1</td>\n",
       "      <td>BOOKS</td>\n",
       "      <td>2013-01-01</td>\n",
       "      <td>0.000</td>\n",
       "      <td>2</td>\n",
       "      <td>NaN</td>\n",
       "    </tr>\n",
       "    <tr>\n",
       "      <th>...</th>\n",
       "      <td>...</td>\n",
       "      <td>...</td>\n",
       "      <td>...</td>\n",
       "      <td>...</td>\n",
       "      <td>...</td>\n",
       "      <td>...</td>\n",
       "    </tr>\n",
       "    <tr>\n",
       "      <th>2127703</th>\n",
       "      <td>54</td>\n",
       "      <td>POULTRY</td>\n",
       "      <td>2017-07-28</td>\n",
       "      <td>46.656</td>\n",
       "      <td>4</td>\n",
       "      <td>49.72</td>\n",
       "    </tr>\n",
       "    <tr>\n",
       "      <th>2127704</th>\n",
       "      <td>54</td>\n",
       "      <td>PREPARED FOODS</td>\n",
       "      <td>2017-07-28</td>\n",
       "      <td>68.000</td>\n",
       "      <td>4</td>\n",
       "      <td>49.72</td>\n",
       "    </tr>\n",
       "    <tr>\n",
       "      <th>2127705</th>\n",
       "      <td>54</td>\n",
       "      <td>PRODUCE</td>\n",
       "      <td>2017-07-28</td>\n",
       "      <td>562.097</td>\n",
       "      <td>3</td>\n",
       "      <td>49.72</td>\n",
       "    </tr>\n",
       "    <tr>\n",
       "      <th>2127706</th>\n",
       "      <td>54</td>\n",
       "      <td>SCHOOL AND OFFICE SUPPLIES</td>\n",
       "      <td>2017-07-28</td>\n",
       "      <td>0.000</td>\n",
       "      <td>2</td>\n",
       "      <td>49.72</td>\n",
       "    </tr>\n",
       "    <tr>\n",
       "      <th>2127707</th>\n",
       "      <td>54</td>\n",
       "      <td>SEAFOOD</td>\n",
       "      <td>2017-07-28</td>\n",
       "      <td>4.000</td>\n",
       "      <td>2</td>\n",
       "      <td>49.72</td>\n",
       "    </tr>\n",
       "  </tbody>\n",
       "</table>\n",
       "<p>2127708 rows × 6 columns</p>\n",
       "</div>"
      ],
      "text/plain": [
       "         store_nbr                      family       date    sales  group  \\\n",
       "0                1                  AUTOMOTIVE 2013-01-01    0.000      4   \n",
       "1                1                   BABY CARE 2013-01-01    0.000      0   \n",
       "2                1                      BEAUTY 2013-01-01    0.000      4   \n",
       "3                1                   BEVERAGES 2013-01-01    0.000      3   \n",
       "4                1                       BOOKS 2013-01-01    0.000      2   \n",
       "...            ...                         ...        ...      ...    ...   \n",
       "2127703         54                     POULTRY 2017-07-28   46.656      4   \n",
       "2127704         54              PREPARED FOODS 2017-07-28   68.000      4   \n",
       "2127705         54                     PRODUCE 2017-07-28  562.097      3   \n",
       "2127706         54  SCHOOL AND OFFICE SUPPLIES 2017-07-28    0.000      2   \n",
       "2127707         54                     SEAFOOD 2017-07-28    4.000      2   \n",
       "\n",
       "         dcoilwtico  \n",
       "0               NaN  \n",
       "1               NaN  \n",
       "2               NaN  \n",
       "3               NaN  \n",
       "4               NaN  \n",
       "...             ...  \n",
       "2127703       49.72  \n",
       "2127704       49.72  \n",
       "2127705       49.72  \n",
       "2127706       49.72  \n",
       "2127707       49.72  \n",
       "\n",
       "[2127708 rows x 6 columns]"
      ]
     },
     "execution_count": 8,
     "metadata": {},
     "output_type": "execute_result"
    }
   ],
   "source": [
    "import pandas as pd\n",
    "pd.merge(train, oil, on=[\"date\"], suffixes=(\"_endog\", \"_exog\"))"
   ]
  },
  {
   "cell_type": "code",
   "execution_count": 12,
   "id": "68b2d3ae",
   "metadata": {},
   "outputs": [
    {
     "name": "stdout",
     "output_type": "stream",
     "text": [
      "2022-02-11 23:43:11,699 - kedro.io.data_catalog - INFO - Loading data from `best_estimators` (CSVDataSet)...\n"
     ]
    },
    {
     "data": {
      "text/html": [
       "<div>\n",
       "<style scoped>\n",
       "    .dataframe tbody tr th:only-of-type {\n",
       "        vertical-align: middle;\n",
       "    }\n",
       "\n",
       "    .dataframe tbody tr th {\n",
       "        vertical-align: top;\n",
       "    }\n",
       "\n",
       "    .dataframe thead th {\n",
       "        text-align: right;\n",
       "    }\n",
       "</style>\n",
       "<table border=\"1\" class=\"dataframe\">\n",
       "  <thead>\n",
       "    <tr style=\"text-align: right;\">\n",
       "      <th></th>\n",
       "      <th>store_nbr</th>\n",
       "      <th>family</th>\n",
       "      <th>best_estimator</th>\n",
       "    </tr>\n",
       "  </thead>\n",
       "  <tbody>\n",
       "    <tr>\n",
       "      <th>0</th>\n",
       "      <td>1</td>\n",
       "      <td>AUTOMOTIVE</td>\n",
       "      <td>ExponentialSmoothing(seasonal_periods=15, tren...</td>\n",
       "    </tr>\n",
       "    <tr>\n",
       "      <th>1</th>\n",
       "      <td>1</td>\n",
       "      <td>BABY CARE</td>\n",
       "      <td>RidgeForecaster(lags=2, poly_degree=1)</td>\n",
       "    </tr>\n",
       "    <tr>\n",
       "      <th>2</th>\n",
       "      <td>1</td>\n",
       "      <td>BEAUTY</td>\n",
       "      <td>ExponentialSmoothing(seasonal_periods=15, tren...</td>\n",
       "    </tr>\n",
       "    <tr>\n",
       "      <th>3</th>\n",
       "      <td>1</td>\n",
       "      <td>BEVERAGES</td>\n",
       "      <td>LassoForecaster(lags=2, poly_degree=1)</td>\n",
       "    </tr>\n",
       "    <tr>\n",
       "      <th>4</th>\n",
       "      <td>1</td>\n",
       "      <td>BOOKS</td>\n",
       "      <td>RidgeForecaster(lags=30, poly_degree=1)</td>\n",
       "    </tr>\n",
       "    <tr>\n",
       "      <th>...</th>\n",
       "      <td>...</td>\n",
       "      <td>...</td>\n",
       "      <td>...</td>\n",
       "    </tr>\n",
       "    <tr>\n",
       "      <th>1777</th>\n",
       "      <td>54</td>\n",
       "      <td>POULTRY</td>\n",
       "      <td>ExponentialSmoothing(seasonal_periods=15, tren...</td>\n",
       "    </tr>\n",
       "    <tr>\n",
       "      <th>1778</th>\n",
       "      <td>54</td>\n",
       "      <td>PREPARED FOODS</td>\n",
       "      <td>ExponentialSmoothing(seasonal='add', seasonal_...</td>\n",
       "    </tr>\n",
       "    <tr>\n",
       "      <th>1779</th>\n",
       "      <td>54</td>\n",
       "      <td>PRODUCE</td>\n",
       "      <td>LassoForecaster(lags=15, poly_degree=1)</td>\n",
       "    </tr>\n",
       "    <tr>\n",
       "      <th>1780</th>\n",
       "      <td>54</td>\n",
       "      <td>SCHOOL AND OFFICE SUPPLIES</td>\n",
       "      <td>RidgeForecaster(lags=15, poly_degree=1)</td>\n",
       "    </tr>\n",
       "    <tr>\n",
       "      <th>1781</th>\n",
       "      <td>54</td>\n",
       "      <td>SEAFOOD</td>\n",
       "      <td>LassoForecaster(lags=30, poly_degree=1)</td>\n",
       "    </tr>\n",
       "  </tbody>\n",
       "</table>\n",
       "<p>1782 rows × 3 columns</p>\n",
       "</div>"
      ],
      "text/plain": [
       "      store_nbr                      family  \\\n",
       "0             1                  AUTOMOTIVE   \n",
       "1             1                   BABY CARE   \n",
       "2             1                      BEAUTY   \n",
       "3             1                   BEVERAGES   \n",
       "4             1                       BOOKS   \n",
       "...         ...                         ...   \n",
       "1777         54                     POULTRY   \n",
       "1778         54              PREPARED FOODS   \n",
       "1779         54                     PRODUCE   \n",
       "1780         54  SCHOOL AND OFFICE SUPPLIES   \n",
       "1781         54                     SEAFOOD   \n",
       "\n",
       "                                         best_estimator  \n",
       "0     ExponentialSmoothing(seasonal_periods=15, tren...  \n",
       "1                RidgeForecaster(lags=2, poly_degree=1)  \n",
       "2     ExponentialSmoothing(seasonal_periods=15, tren...  \n",
       "3                LassoForecaster(lags=2, poly_degree=1)  \n",
       "4               RidgeForecaster(lags=30, poly_degree=1)  \n",
       "...                                                 ...  \n",
       "1777  ExponentialSmoothing(seasonal_periods=15, tren...  \n",
       "1778  ExponentialSmoothing(seasonal='add', seasonal_...  \n",
       "1779            LassoForecaster(lags=15, poly_degree=1)  \n",
       "1780            RidgeForecaster(lags=15, poly_degree=1)  \n",
       "1781            LassoForecaster(lags=30, poly_degree=1)  \n",
       "\n",
       "[1782 rows x 3 columns]"
      ]
     },
     "execution_count": 12,
     "metadata": {},
     "output_type": "execute_result"
    }
   ],
   "source": [
    "best_estimators = catalog.load(\"best_estimators\")\n",
    "best_estimators"
   ]
  },
  {
   "cell_type": "code",
   "execution_count": 13,
   "id": "09c28e6d",
   "metadata": {},
   "outputs": [
    {
     "name": "stdout",
     "output_type": "stream",
     "text": [
      "2022-02-11 23:49:18,549 - kedro.io.data_catalog - INFO - Loading data from `submission_file` (CSVDataSet)...\n"
     ]
    },
    {
     "data": {
      "text/html": [
       "<div>\n",
       "<style scoped>\n",
       "    .dataframe tbody tr th:only-of-type {\n",
       "        vertical-align: middle;\n",
       "    }\n",
       "\n",
       "    .dataframe tbody tr th {\n",
       "        vertical-align: top;\n",
       "    }\n",
       "\n",
       "    .dataframe thead th {\n",
       "        text-align: right;\n",
       "    }\n",
       "</style>\n",
       "<table border=\"1\" class=\"dataframe\">\n",
       "  <thead>\n",
       "    <tr style=\"text-align: right;\">\n",
       "      <th></th>\n",
       "      <th>id</th>\n",
       "      <th>sales</th>\n",
       "    </tr>\n",
       "  </thead>\n",
       "  <tbody>\n",
       "    <tr>\n",
       "      <th>0</th>\n",
       "      <td>3000888</td>\n",
       "      <td>4.507842</td>\n",
       "    </tr>\n",
       "    <tr>\n",
       "      <th>1</th>\n",
       "      <td>3000889</td>\n",
       "      <td>0.000000</td>\n",
       "    </tr>\n",
       "    <tr>\n",
       "      <th>2</th>\n",
       "      <td>3000890</td>\n",
       "      <td>3.576492</td>\n",
       "    </tr>\n",
       "    <tr>\n",
       "      <th>3</th>\n",
       "      <td>3000891</td>\n",
       "      <td>1513.248946</td>\n",
       "    </tr>\n",
       "    <tr>\n",
       "      <th>4</th>\n",
       "      <td>3000892</td>\n",
       "      <td>0.041426</td>\n",
       "    </tr>\n",
       "    <tr>\n",
       "      <th>...</th>\n",
       "      <td>...</td>\n",
       "      <td>...</td>\n",
       "    </tr>\n",
       "    <tr>\n",
       "      <th>28507</th>\n",
       "      <td>3029395</td>\n",
       "      <td>438.604364</td>\n",
       "    </tr>\n",
       "    <tr>\n",
       "      <th>28508</th>\n",
       "      <td>3029396</td>\n",
       "      <td>112.224560</td>\n",
       "    </tr>\n",
       "    <tr>\n",
       "      <th>28509</th>\n",
       "      <td>3029397</td>\n",
       "      <td>1100.951228</td>\n",
       "    </tr>\n",
       "    <tr>\n",
       "      <th>28510</th>\n",
       "      <td>3029398</td>\n",
       "      <td>150.678826</td>\n",
       "    </tr>\n",
       "    <tr>\n",
       "      <th>28511</th>\n",
       "      <td>3029399</td>\n",
       "      <td>16.868624</td>\n",
       "    </tr>\n",
       "  </tbody>\n",
       "</table>\n",
       "<p>28512 rows × 2 columns</p>\n",
       "</div>"
      ],
      "text/plain": [
       "            id        sales\n",
       "0      3000888     4.507842\n",
       "1      3000889     0.000000\n",
       "2      3000890     3.576492\n",
       "3      3000891  1513.248946\n",
       "4      3000892     0.041426\n",
       "...        ...          ...\n",
       "28507  3029395   438.604364\n",
       "28508  3029396   112.224560\n",
       "28509  3029397  1100.951228\n",
       "28510  3029398   150.678826\n",
       "28511  3029399    16.868624\n",
       "\n",
       "[28512 rows x 2 columns]"
      ]
     },
     "execution_count": 13,
     "metadata": {},
     "output_type": "execute_result"
    }
   ],
   "source": [
    "catalog.load(\"submission_file\")"
   ]
  },
  {
   "cell_type": "code",
   "execution_count": 10,
   "id": "cb3e4970",
   "metadata": {},
   "outputs": [],
   "source": [
    "import pandas as pd\n",
    "import numpy as np"
   ]
  },
  {
   "cell_type": "code",
   "execution_count": 7,
   "id": "e67af6fb",
   "metadata": {},
   "outputs": [],
   "source": [
    "serie_id = [\"store_nbr\", \"family\"]\n",
    "train[\"serie_id\"] = list(zip(*[train[c] for c in serie_id]))"
   ]
  },
  {
   "cell_type": "code",
   "execution_count": 8,
   "id": "c095cf2f",
   "metadata": {},
   "outputs": [
    {
     "data": {
      "text/plain": [
       "array([2, 4, 5, 1])"
      ]
     },
     "execution_count": 8,
     "metadata": {},
     "output_type": "execute_result"
    }
   ],
   "source": [
    "import numpy as np\n",
    "np.roll([1, 2, 4, 5], -1)"
   ]
  },
  {
   "cell_type": "code",
   "execution_count": 66,
   "id": "39b891bf",
   "metadata": {},
   "outputs": [],
   "source": [
    "series_ids = []\n",
    "for i in range(1, 5):\n",
    "    series_ids.append(seg_groups[seg_groups.group == i].iloc[0, 0])"
   ]
  },
  {
   "cell_type": "code",
   "execution_count": 74,
   "id": "5be38c4e",
   "metadata": {},
   "outputs": [
    {
     "data": {
      "image/png": "[encoded data removed]",
      "text/plain": [
       "<Figure size 432x288 with 1 Axes>"
      ]
     },
     "metadata": {
      "needs_background": "light"
     },
     "output_type": "display_data"
    }
   ],
   "source": [
    "import matplotlib.pyplot as plt\n",
    "fig, ax = plt.subplots()\n",
    "for i, serie_id in enumerate(series_ids):\n",
    "    prepared_data[prepared_data.family == serie_id].set_index(\"date\").sales.plot(ax=ax)\n",
    "    ax.legend(f\"{i+1}\")"
   ]
  },
  {
   "cell_type": "code",
   "execution_count": 77,
   "id": "a34e5126",
   "metadata": {},
   "outputs": [
    {
     "data": {
      "text/plain": [
       "<AxesSubplot:xlabel='date'>"
      ]
     },
     "execution_count": 77,
     "metadata": {},
     "output_type": "execute_result"
    },
    {
     "data": {
      "image/png": "[encoded data removed]",
      "text/plain": [
       "<Figure size 432x288 with 1 Axes>"
      ]
     },
     "metadata": {
      "needs_background": "light"
     },
     "output_type": "display_data"
    }
   ],
   "source": [
    "prepared_data[prepared_data.family == series_ids[0]].set_index(\"date\").sales.plot()"
   ]
  },
  {
   "cell_type": "code",
   "execution_count": 78,
   "id": "c8659cf0",
   "metadata": {},
   "outputs": [
    {
     "data": {
      "text/plain": [
       "<AxesSubplot:xlabel='date'>"
      ]
     },
     "execution_count": 78,
     "metadata": {},
     "output_type": "execute_result"
    },
    {
     "data": {
      "image/png": "[encoded data removed]",
      "text/plain": [
       "<Figure size 432x288 with 1 Axes>"
      ]
     },
     "metadata": {
      "needs_background": "light"
     },
     "output_type": "display_data"
    }
   ],
   "source": [
    "prepared_data[prepared_data.family == series_ids[1]].set_index(\"date\").sales.plot()"
   ]
  },
  {
   "cell_type": "code",
   "execution_count": 79,
   "id": "67692ecc",
   "metadata": {},
   "outputs": [
    {
     "data": {
      "text/plain": [
       "<AxesSubplot:xlabel='date'>"
      ]
     },
     "execution_count": 79,
     "metadata": {},
     "output_type": "execute_result"
    },
    {
     "data": {
      "image/png": "[encoded data removed]",
      "text/plain": [
       "<Figure size 432x288 with 1 Axes>"
      ]
     },
     "metadata": {
      "needs_background": "light"
     },
     "output_type": "display_data"
    }
   ],
   "source": [
    "prepared_data[prepared_data.family == series_ids[2]].set_index(\"date\").sales.plot()"
   ]
  },
  {
   "cell_type": "code",
   "execution_count": 80,
   "id": "92a49631",
   "metadata": {},
   "outputs": [
    {
     "data": {
      "text/plain": [
       "<AxesSubplot:xlabel='date'>"
      ]
     },
     "execution_count": 80,
     "metadata": {},
     "output_type": "execute_result"
    },
    {
     "data": {
      "image/png": "[encoded data removed]",
      "text/plain": [
       "<Figure size 432x288 with 1 Axes>"
      ]
     },
     "metadata": {
      "needs_background": "light"
     },
     "output_type": "display_data"
    }
   ],
   "source": [
    "prepared_data[prepared_data.family == series_ids[3]].set_index(\"date\").sales.plot()"
   ]
  },
  {
   "cell_type": "markdown",
   "id": "7a8d5367",
   "metadata": {},
   "source": [
    "# ACF"
   ]
  },
  {
   "cell_type": "code",
   "execution_count": 5,
   "id": "aee60b2f",
   "metadata": {},
   "outputs": [],
   "source": [
    "from statsmodels.tsa.stattools import acf\n",
    "from statsmodels.graphics.tsaplots import plot_acf\n",
    "import pandas as pd"
   ]
  },
  {
   "cell_type": "code",
   "execution_count": 6,
   "id": "6eab51f0",
   "metadata": {},
   "outputs": [],
   "source": [
    "def get_acf(series_data):\n",
    "    ts = series_data.set_index(\"date\").sales\n",
    "    acf_results = (acf(ts, nlags=360)*-1).argsort()[1:]\n",
    "    lags = {}\n",
    "    for i in range(3):\n",
    "        lags[f\"{i+1}_acf\"] = acf_results[i] + 1\n",
    "    return pd.Series(lags)\n",
    "        \n",
    "acfs = train.groupby([\"store_nbr\", \"family\", \"group\"]).apply(lambda series_data: get_acf(series_data))"
   ]
  },
  {
   "cell_type": "code",
   "execution_count": 7,
   "id": "e815ca71",
   "metadata": {},
   "outputs": [
    {
     "data": {
      "text/plain": [
       "<function statsmodels.tsa.stattools.acf(x, adjusted=False, nlags=None, qstat=False, fft=None, alpha=None, missing='none')>"
      ]
     },
     "execution_count": 7,
     "metadata": {},
     "output_type": "execute_result"
    }
   ],
   "source": [
    "acf"
   ]
  },
  {
   "cell_type": "code",
   "execution_count": 8,
   "id": "ccbd38d5",
   "metadata": {},
   "outputs": [
    {
     "data": {
      "text/plain": [
       "2     11\n",
       "8      3\n",
       "15     3\n",
       "29     2\n",
       "6      1\n",
       "Name: 1_acf, dtype: int64"
      ]
     },
     "execution_count": 8,
     "metadata": {},
     "output_type": "execute_result"
    }
   ],
   "source": [
    "acfs[\"1_acf\"].value_counts()"
   ]
  },
  {
   "cell_type": "code",
   "execution_count": 9,
   "id": "55d59136",
   "metadata": {},
   "outputs": [
    {
     "data": {
      "text/plain": [
       "8     6\n",
       "3     5\n",
       "15    3\n",
       "64    2\n",
       "2     1\n",
       "4     1\n",
       "37    1\n",
       "7     1\n",
       "Name: 2_acf, dtype: int64"
      ]
     },
     "execution_count": 9,
     "metadata": {},
     "output_type": "execute_result"
    }
   ],
   "source": [
    "acfs[\"2_acf\"].value_counts()"
   ]
  },
  {
   "cell_type": "code",
   "execution_count": 10,
   "id": "ff6a8d2a",
   "metadata": {},
   "outputs": [
    {
     "data": {
      "text/plain": [
       "8     5\n",
       "15    3\n",
       "3     2\n",
       "4     2\n",
       "22    2\n",
       "92    2\n",
       "29    2\n",
       "2     1\n",
       "14    1\n",
       "Name: 3_acf, dtype: int64"
      ]
     },
     "execution_count": 10,
     "metadata": {},
     "output_type": "execute_result"
    }
   ],
   "source": [
    "acfs[\"3_acf\"].value_counts()"
   ]
  },
  {
   "cell_type": "markdown",
   "id": "f0c31149",
   "metadata": {},
   "source": [
    "## Group 1"
   ]
  },
  {
   "cell_type": "code",
   "execution_count": 29,
   "id": "2bcaeb64",
   "metadata": {},
   "outputs": [
    {
     "data": {
      "image/png": "[encoded data removed]",
      "text/plain": [
       "<Figure size 432x288 with 1 Axes>"
      ]
     },
     "execution_count": 29,
     "metadata": {},
     "output_type": "execute_result"
    },
    {
     "data": {
      "image/png": "[encoded data removed]",
      "text/plain": [
       "<Figure size 432x288 with 1 Axes>"
      ]
     },
     "metadata": {
      "needs_background": "light"
     },
     "output_type": "display_data"
    }
   ],
   "source": [
    "series_group = train[train.group == 1].serie_id.unique()\n",
    "serie = np.random.choice(series_group)\n",
    "ts = train[train.serie_id == serie].set_index(\"date\").sales\n",
    "plot_acf(ts, lags=30)"
   ]
  },
  {
   "cell_type": "code",
   "execution_count": 35,
   "id": "3420b885",
   "metadata": {},
   "outputs": [
    {
     "data": {
      "text/plain": [
       "array([ 0,  6, 12, 24, 18,  1,  8, 17, 15, 21, 14,  2, 23, 27,  7,  3, 13,\n",
       "       19, 16, 11,  9, 20,  5, 28, 10, 26, 25,  4, 29, 30, 22])"
      ]
     },
     "execution_count": 35,
     "metadata": {},
     "output_type": "execute_result"
    }
   ],
   "source": [
    "(acf(ts, nlags=30)*-1).argsort()"
   ]
  },
  {
   "cell_type": "markdown",
   "id": "3aa0a900",
   "metadata": {},
   "source": [
    "## Group 2"
   ]
  },
  {
   "cell_type": "code",
   "execution_count": 26,
   "id": "4c160fa4",
   "metadata": {},
   "outputs": [
    {
     "data": {
      "image/png": "[encoded data removed]",
      "text/plain": [
       "<Figure size 432x288 with 1 Axes>"
      ]
     },
     "execution_count": 26,
     "metadata": {},
     "output_type": "execute_result"
    },
    {
     "data": {
      "image/png": "[encoded data removed]",
      "text/plain": [
       "<Figure size 432x288 with 1 Axes>"
      ]
     },
     "metadata": {
      "needs_background": "light"
     },
     "output_type": "display_data"
    }
   ],
   "source": [
    "series_group = train[train.group == 2].serie_id.unique()\n",
    "serie = np.random.choice(series_group)\n",
    "ts = train[train.serie_id == serie].set_index(\"date\").sales\n",
    "plot_acf(ts, lags=30)"
   ]
  },
  {
   "cell_type": "markdown",
   "id": "bc0225a1",
   "metadata": {},
   "source": [
    "## Group 3"
   ]
  },
  {
   "cell_type": "code",
   "execution_count": 27,
   "id": "b0d137ba",
   "metadata": {},
   "outputs": [
    {
     "data": {
      "image/png": "[encoded data removed]",
      "text/plain": [
       "<Figure size 432x288 with 1 Axes>"
      ]
     },
     "execution_count": 27,
     "metadata": {},
     "output_type": "execute_result"
    },
    {
     "data": {
      "image/png": "[encoded data removed]",
      "text/plain": [
       "<Figure size 432x288 with 1 Axes>"
      ]
     },
     "metadata": {
      "needs_background": "light"
     },
     "output_type": "display_data"
    }
   ],
   "source": [
    "series_group = train[train.group == 3].serie_id.unique()\n",
    "serie = np.random.choice(series_group)\n",
    "ts = train[train.serie_id == serie].set_index(\"date\").sales\n",
    "plot_acf(ts, lags=30)"
   ]
  },
  {
   "cell_type": "markdown",
   "id": "24ba45d9",
   "metadata": {},
   "source": [
    "## Group 4"
   ]
  },
  {
   "cell_type": "code",
   "execution_count": 28,
   "id": "71b67a21",
   "metadata": {},
   "outputs": [
    {
     "data": {
      "image/png": "[encoded data removed]",
      "text/plain": [
       "<Figure size 432x288 with 1 Axes>"
      ]
     },
     "execution_count": 28,
     "metadata": {},
     "output_type": "execute_result"
    },
    {
     "data": {
      "image/png": "[encoded data removed]",
      "text/plain": [
       "<Figure size 432x288 with 1 Axes>"
      ]
     },
     "metadata": {
      "needs_background": "light"
     },
     "output_type": "display_data"
    }
   ],
   "source": [
    "series_group = train[train.group == 4].serie_id.unique()\n",
    "serie = np.random.choice(series_group)\n",
    "ts = train[train.serie_id == serie].set_index(\"date\").sales\n",
    "plot_acf(ts, lags=30)"
   ]
  },
  {
   "cell_type": "code",
   "execution_count": null,
   "id": "352d1031",
   "metadata": {},
   "outputs": [],
   "source": []
  }
 ],
 "metadata": {
  "kernelspec": {
   "display_name": "time_series_kedro",
   "language": "python",
   "name": "python3"
  },
  "language_info": {
   "codemirror_mode": {
    "name": "ipython",
    "version": 3
   },
   "file_extension": ".py",
   "mimetype": "text/x-python",
   "name": "python",
   "nbconvert_exporter": "python",
   "pygments_lexer": "ipython3",
   "version": "3.8.10"
  }
 },
 "nbformat": 4,
 "nbformat_minor": 5
}
