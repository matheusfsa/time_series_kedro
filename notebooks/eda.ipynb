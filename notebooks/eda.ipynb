{
 "cells": [
  {
   "cell_type": "code",
   "execution_count": 26,
   "id": "c44f3826-b4d7-46d4-b94a-eb35e6e35a6c",
   "metadata": {},
   "outputs": [
    {
     "name": "stdout",
     "output_type": "stream",
     "text": [
      "2022-02-02 21:18:45,718 - kedro.framework.session.store - INFO - `read()` not implemented for `BaseSessionStore`. Assuming empty store.\n",
      "2022-02-02 21:18:45,776 - root - INFO - ** Kedro project time_series_kedro\n",
      "2022-02-02 21:18:45,777 - root - INFO - Defined global variable `context`, `session`, `catalog` and `pipelines`\n"
     ]
    }
   ],
   "source": []
  },
  {
   "cell_type": "code",
   "execution_count": 9,
   "id": "0b302df2-a8e7-416f-b4cc-8c2ae71719b5",
   "metadata": {},
   "outputs": [
    {
     "name": "stdout",
     "output_type": "stream",
     "text": [
      "2022-02-02 21:35:22,091 - kedro.framework.session.store - INFO - `read()` not implemented for `BaseSessionStore`. Assuming empty store.\n",
      "2022-02-02 21:35:22,129 - root - INFO - ** Kedro project time_series_kedro\n",
      "2022-02-02 21:35:22,130 - root - INFO - Defined global variable `context`, `session`, `catalog` and `pipelines`\n",
      "2022-02-02 21:35:22,131 - kedro.io.data_catalog - INFO - Loading data from `train_data` (CSVDataSet)...\n",
      "2022-02-02 21:35:23,594 - kedro.io.data_catalog - INFO - Loading data from `prepared_data` (CSVDataSet)...\n",
      "2022-02-02 21:35:23,623 - kedro.io.data_catalog - INFO - Loading data from `test_data` (CSVDataSet)...\n",
      "2022-02-02 21:35:23,961 - kedro.io.data_catalog - INFO - Loading data from `transactions` (CSVDataSet)...\n"
     ]
    }
   ],
   "source": [
    "%reload_kedro\n",
    "train = catalog.load(\"train_data\")\n",
    "prepared_data = catalog.load(\"prepared_data\")\n",
    "test = catalog.load(\"test_data\")\n",
    "transactions = catalog.load(\"transactions\")"
   ]
  },
  {
   "cell_type": "code",
   "execution_count": 5,
   "id": "2c58b602-3b35-4327-93a3-d2bf45c7366a",
   "metadata": {},
   "outputs": [],
   "source": [
    "import pandas as pd\n",
    "import numpy as np"
   ]
  },
  {
   "cell_type": "code",
   "execution_count": 10,
   "id": "301bfa6e-fd3c-49ac-8f8c-ba2f13e41dbe",
   "metadata": {},
   "outputs": [
    {
     "data": {
      "text/html": [
       "<div>\n",
       "<style scoped>\n",
       "    .dataframe tbody tr th:only-of-type {\n",
       "        vertical-align: middle;\n",
       "    }\n",
       "\n",
       "    .dataframe tbody tr th {\n",
       "        vertical-align: top;\n",
       "    }\n",
       "\n",
       "    .dataframe thead th {\n",
       "        text-align: right;\n",
       "    }\n",
       "</style>\n",
       "<table border=\"1\" class=\"dataframe\">\n",
       "  <thead>\n",
       "    <tr style=\"text-align: right;\">\n",
       "      <th></th>\n",
       "      <th>date</th>\n",
       "      <th>family</th>\n",
       "      <th>sales</th>\n",
       "    </tr>\n",
       "  </thead>\n",
       "  <tbody>\n",
       "    <tr>\n",
       "      <th>0</th>\n",
       "      <td>2013-01-01</td>\n",
       "      <td>AUTOMOTIVE</td>\n",
       "      <td>0.000000</td>\n",
       "    </tr>\n",
       "    <tr>\n",
       "      <th>1</th>\n",
       "      <td>2013-01-01</td>\n",
       "      <td>BABY CARE</td>\n",
       "      <td>0.000000</td>\n",
       "    </tr>\n",
       "    <tr>\n",
       "      <th>2</th>\n",
       "      <td>2013-01-01</td>\n",
       "      <td>BEAUTY</td>\n",
       "      <td>2.000000</td>\n",
       "    </tr>\n",
       "    <tr>\n",
       "      <th>3</th>\n",
       "      <td>2013-01-01</td>\n",
       "      <td>BEVERAGES</td>\n",
       "      <td>810.000000</td>\n",
       "    </tr>\n",
       "    <tr>\n",
       "      <th>4</th>\n",
       "      <td>2013-01-01</td>\n",
       "      <td>BOOKS</td>\n",
       "      <td>0.000000</td>\n",
       "    </tr>\n",
       "    <tr>\n",
       "      <th>...</th>\n",
       "      <td>...</td>\n",
       "      <td>...</td>\n",
       "      <td>...</td>\n",
       "    </tr>\n",
       "    <tr>\n",
       "      <th>55567</th>\n",
       "      <td>2017-08-15</td>\n",
       "      <td>POULTRY</td>\n",
       "      <td>17586.709986</td>\n",
       "    </tr>\n",
       "    <tr>\n",
       "      <th>55568</th>\n",
       "      <td>2017-08-15</td>\n",
       "      <td>PREPARED FOODS</td>\n",
       "      <td>4641.522980</td>\n",
       "    </tr>\n",
       "    <tr>\n",
       "      <th>55569</th>\n",
       "      <td>2017-08-15</td>\n",
       "      <td>PRODUCE</td>\n",
       "      <td>125108.971000</td>\n",
       "    </tr>\n",
       "    <tr>\n",
       "      <th>55570</th>\n",
       "      <td>2017-08-15</td>\n",
       "      <td>SCHOOL AND OFFICE SUPPLIES</td>\n",
       "      <td>2530.000000</td>\n",
       "    </tr>\n",
       "    <tr>\n",
       "      <th>55571</th>\n",
       "      <td>2017-08-15</td>\n",
       "      <td>SEAFOOD</td>\n",
       "      <td>970.177005</td>\n",
       "    </tr>\n",
       "  </tbody>\n",
       "</table>\n",
       "<p>55572 rows × 3 columns</p>\n",
       "</div>"
      ],
      "text/plain": [
       "            date                      family          sales\n",
       "0     2013-01-01                  AUTOMOTIVE       0.000000\n",
       "1     2013-01-01                   BABY CARE       0.000000\n",
       "2     2013-01-01                      BEAUTY       2.000000\n",
       "3     2013-01-01                   BEVERAGES     810.000000\n",
       "4     2013-01-01                       BOOKS       0.000000\n",
       "...          ...                         ...            ...\n",
       "55567 2017-08-15                     POULTRY   17586.709986\n",
       "55568 2017-08-15              PREPARED FOODS    4641.522980\n",
       "55569 2017-08-15                     PRODUCE  125108.971000\n",
       "55570 2017-08-15  SCHOOL AND OFFICE SUPPLIES    2530.000000\n",
       "55571 2017-08-15                     SEAFOOD     970.177005\n",
       "\n",
       "[55572 rows x 3 columns]"
      ]
     },
     "execution_count": 10,
     "metadata": {},
     "output_type": "execute_result"
    }
   ],
   "source": [
    "prepared_data"
   ]
  },
  {
   "cell_type": "code",
   "execution_count": 37,
   "id": "15fde105-0938-49e5-87d8-7c5236a30bb1",
   "metadata": {},
   "outputs": [],
   "source": [
    "from time_series_kedro.extras.utils import rolling_fill\n",
    "def build_series(serie_data, serie_target, date_col):\n",
    "    serie = serie_data.set_index(date_col)[[serie_target]]\n",
    "    full_serie = serie.reindex(pd.date_range(serie.index.min(), serie.index.max()))\n",
    "    full_serie[serie_target] = rolling_fill(full_serie[serie_target], n=2)\n",
    "    return full_serie\n",
    "    \n",
    "    "
   ]
  },
  {
   "cell_type": "code",
   "execution_count": 39,
   "id": "d51f65c3-b86c-457c-b570-16167265285d",
   "metadata": {},
   "outputs": [
    {
     "data": {
      "text/plain": [
       "sales    0\n",
       "dtype: int64"
      ]
     },
     "execution_count": 39,
     "metadata": {},
     "output_type": "execute_result"
    }
   ],
   "source": [
    "serie_target = \"sales\"\n",
    "date_col = \"date\"\n",
    "prepared_data.groupby(\"family\").apply(lambda serie_data: build_series(serie_data, serie_target, date_col))"
   ]
  },
  {
   "cell_type": "code",
   "execution_count": 12,
   "id": "6859327c-94d6-4ec8-9186-deb287b28c46",
   "metadata": {},
   "outputs": [
    {
     "data": {
      "text/html": [
       "<div>\n",
       "<style scoped>\n",
       "    .dataframe tbody tr th:only-of-type {\n",
       "        vertical-align: middle;\n",
       "    }\n",
       "\n",
       "    .dataframe tbody tr th {\n",
       "        vertical-align: top;\n",
       "    }\n",
       "\n",
       "    .dataframe thead th {\n",
       "        text-align: right;\n",
       "    }\n",
       "</style>\n",
       "<table border=\"1\" class=\"dataframe\">\n",
       "  <thead>\n",
       "    <tr style=\"text-align: right;\">\n",
       "      <th></th>\n",
       "      <th>family</th>\n",
       "      <th>sales</th>\n",
       "    </tr>\n",
       "    <tr>\n",
       "      <th>date</th>\n",
       "      <th></th>\n",
       "      <th></th>\n",
       "    </tr>\n",
       "  </thead>\n",
       "  <tbody>\n",
       "    <tr>\n",
       "      <th>2013-01-01</th>\n",
       "      <td>AUTOMOTIVE</td>\n",
       "      <td>0.0</td>\n",
       "    </tr>\n",
       "    <tr>\n",
       "      <th>2013-01-02</th>\n",
       "      <td>AUTOMOTIVE</td>\n",
       "      <td>255.0</td>\n",
       "    </tr>\n",
       "    <tr>\n",
       "      <th>2013-01-03</th>\n",
       "      <td>AUTOMOTIVE</td>\n",
       "      <td>161.0</td>\n",
       "    </tr>\n",
       "    <tr>\n",
       "      <th>2013-01-04</th>\n",
       "      <td>AUTOMOTIVE</td>\n",
       "      <td>169.0</td>\n",
       "    </tr>\n",
       "    <tr>\n",
       "      <th>2013-01-05</th>\n",
       "      <td>AUTOMOTIVE</td>\n",
       "      <td>342.0</td>\n",
       "    </tr>\n",
       "    <tr>\n",
       "      <th>...</th>\n",
       "      <td>...</td>\n",
       "      <td>...</td>\n",
       "    </tr>\n",
       "    <tr>\n",
       "      <th>2017-08-11</th>\n",
       "      <td>AUTOMOTIVE</td>\n",
       "      <td>441.0</td>\n",
       "    </tr>\n",
       "    <tr>\n",
       "      <th>2017-08-12</th>\n",
       "      <td>AUTOMOTIVE</td>\n",
       "      <td>403.0</td>\n",
       "    </tr>\n",
       "    <tr>\n",
       "      <th>2017-08-13</th>\n",
       "      <td>AUTOMOTIVE</td>\n",
       "      <td>481.0</td>\n",
       "    </tr>\n",
       "    <tr>\n",
       "      <th>2017-08-14</th>\n",
       "      <td>AUTOMOTIVE</td>\n",
       "      <td>292.0</td>\n",
       "    </tr>\n",
       "    <tr>\n",
       "      <th>2017-08-15</th>\n",
       "      <td>AUTOMOTIVE</td>\n",
       "      <td>337.0</td>\n",
       "    </tr>\n",
       "  </tbody>\n",
       "</table>\n",
       "<p>1684 rows × 2 columns</p>\n",
       "</div>"
      ],
      "text/plain": [
       "                family  sales\n",
       "date                         \n",
       "2013-01-01  AUTOMOTIVE    0.0\n",
       "2013-01-02  AUTOMOTIVE  255.0\n",
       "2013-01-03  AUTOMOTIVE  161.0\n",
       "2013-01-04  AUTOMOTIVE  169.0\n",
       "2013-01-05  AUTOMOTIVE  342.0\n",
       "...                ...    ...\n",
       "2017-08-11  AUTOMOTIVE  441.0\n",
       "2017-08-12  AUTOMOTIVE  403.0\n",
       "2017-08-13  AUTOMOTIVE  481.0\n",
       "2017-08-14  AUTOMOTIVE  292.0\n",
       "2017-08-15  AUTOMOTIVE  337.0\n",
       "\n",
       "[1684 rows x 2 columns]"
      ]
     },
     "execution_count": 12,
     "metadata": {},
     "output_type": "execute_result"
    }
   ],
   "source": [
    "serie_data = prepared_data[prepared_data.family==\"AUTOMOTIVE\"].set_index(\"date\")\n",
    "serie_data"
   ]
  },
  {
   "cell_type": "code",
   "execution_count": 18,
   "id": "3ca16fdd-8d12-41d9-a230-60a737c19476",
   "metadata": {},
   "outputs": [
    {
     "data": {
      "text/html": [
       "<div>\n",
       "<style scoped>\n",
       "    .dataframe tbody tr th:only-of-type {\n",
       "        vertical-align: middle;\n",
       "    }\n",
       "\n",
       "    .dataframe tbody tr th {\n",
       "        vertical-align: top;\n",
       "    }\n",
       "\n",
       "    .dataframe thead th {\n",
       "        text-align: right;\n",
       "    }\n",
       "</style>\n",
       "<table border=\"1\" class=\"dataframe\">\n",
       "  <thead>\n",
       "    <tr style=\"text-align: right;\">\n",
       "      <th></th>\n",
       "      <th>v</th>\n",
       "    </tr>\n",
       "  </thead>\n",
       "  <tbody>\n",
       "    <tr>\n",
       "      <th>1</th>\n",
       "      <td>1</td>\n",
       "    </tr>\n",
       "    <tr>\n",
       "      <th>2</th>\n",
       "      <td>2</td>\n",
       "    </tr>\n",
       "    <tr>\n",
       "      <th>3</th>\n",
       "      <td>2</td>\n",
       "    </tr>\n",
       "    <tr>\n",
       "      <th>4</th>\n",
       "      <td>3</td>\n",
       "    </tr>\n",
       "    <tr>\n",
       "      <th>5</th>\n",
       "      <td>4</td>\n",
       "    </tr>\n",
       "    <tr>\n",
       "      <th>6</th>\n",
       "      <td>5</td>\n",
       "    </tr>\n",
       "    <tr>\n",
       "      <th>7</th>\n",
       "      <td>5</td>\n",
       "    </tr>\n",
       "  </tbody>\n",
       "</table>\n",
       "</div>"
      ],
      "text/plain": [
       "   v\n",
       "1  1\n",
       "2  2\n",
       "3  2\n",
       "4  3\n",
       "5  4\n",
       "6  5\n",
       "7  5"
      ]
     },
     "execution_count": 18,
     "metadata": {},
     "output_type": "execute_result"
    }
   ],
   "source": [
    "x = pd.DataFrame(data={\"v\":[1, 2, 3, 4, 5]}, index=[1, 3, 4, 5,7])\n",
    "x.reindex([1, 2, 3, 4, 5, 6, 7])"
   ]
  },
  {
   "cell_type": "code",
   "execution_count": 22,
   "id": "7f8fee2c-6ea5-4e2e-844d-88a0947b4128",
   "metadata": {},
   "outputs": [],
   "source": [
    "serie_data = prepared_data[prepared_data.family==\"AUTOMOTIVE\"].set_index(\"date\")\n",
    "serie_data = serie_data.reindex(pd.date_range(serie_data.index.min(), serie_data.index.max()))\n",
    "serie_data[serie_id] = serie_data[serie_id].fillna(\"ffill\")\n"
   ]
  },
  {
   "cell_type": "code",
   "execution_count": 6,
   "id": "ce6ed96e-b204-449b-ae28-cc518680bb7f",
   "metadata": {},
   "outputs": [
    {
     "data": {
      "text/plain": [
       "id\n",
       "0         2013-01-01\n",
       "1         2013-01-01\n",
       "2         2013-01-01\n",
       "3         2013-01-01\n",
       "4         2013-01-01\n",
       "             ...    \n",
       "3000883   2017-08-15\n",
       "3000884   2017-08-15\n",
       "3000885   2017-08-15\n",
       "3000886   2017-08-15\n",
       "3000887   2017-08-15\n",
       "Name: date, Length: 3000888, dtype: datetime64[ns]"
      ]
     },
     "execution_count": 6,
     "metadata": {},
     "output_type": "execute_result"
    }
   ],
   "source": [
    "pd.to_datetime(train.date)"
   ]
  },
  {
   "cell_type": "code",
   "execution_count": 5,
   "id": "b0a22519-081c-4979-bf03-fb806d3f9c50",
   "metadata": {},
   "outputs": [
    {
     "data": {
      "text/plain": [
       "family\n",
       "AUTOMOTIVE                    1684\n",
       "BABY CARE                     1684\n",
       "BEAUTY                        1684\n",
       "BEVERAGES                     1684\n",
       "BOOKS                         1684\n",
       "BREAD/BAKERY                  1684\n",
       "CELEBRATION                   1684\n",
       "CLEANING                      1684\n",
       "DAIRY                         1684\n",
       "DELI                          1684\n",
       "EGGS                          1684\n",
       "FROZEN FOODS                  1684\n",
       "GROCERY I                     1684\n",
       "GROCERY II                    1684\n",
       "HARDWARE                      1684\n",
       "HOME AND KITCHEN I            1684\n",
       "HOME AND KITCHEN II           1684\n",
       "HOME APPLIANCES               1684\n",
       "HOME CARE                     1684\n",
       "LADIESWEAR                    1684\n",
       "LAWN AND GARDEN               1684\n",
       "LINGERIE                      1684\n",
       "LIQUOR,WINE,BEER              1684\n",
       "MAGAZINES                     1684\n",
       "MEATS                         1684\n",
       "PERSONAL CARE                 1684\n",
       "PET SUPPLIES                  1684\n",
       "PLAYERS AND ELECTRONICS       1684\n",
       "POULTRY                       1684\n",
       "PREPARED FOODS                1684\n",
       "PRODUCE                       1684\n",
       "SCHOOL AND OFFICE SUPPLIES    1684\n",
       "SEAFOOD                       1684\n",
       "Name: date, dtype: int64"
      ]
     },
     "execution_count": 5,
     "metadata": {},
     "output_type": "execute_result"
    }
   ],
   "source": [
    "train.groupby(\"family\").nunique().date"
   ]
  },
  {
   "cell_type": "code",
   "execution_count": null,
   "id": "26cce0ab-c01b-4e8a-b045-fb42433a4717",
   "metadata": {},
   "outputs": [],
   "source": []
  }
 ],
 "metadata": {
  "kernelspec": {
   "display_name": "time_series_kedro",
   "language": "python",
   "name": "python3"
  },
  "language_info": {
   "codemirror_mode": {
    "name": "ipython",
    "version": 3
   },
   "file_extension": ".py",
   "mimetype": "text/x-python",
   "name": "python",
   "nbconvert_exporter": "python",
   "pygments_lexer": "ipython3",
   "version": "3.8.10"
  }
 },
 "nbformat": 4,
 "nbformat_minor": 5
}
